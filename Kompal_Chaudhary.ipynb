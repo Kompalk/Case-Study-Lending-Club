{
  "cells": [
    {
      "cell_type": "markdown",
      "source": [
        "## Import Relevant data manipulation Libraries"
      ],
      "metadata": {
        "id": "YYoco5nmRaGM"
      }
    },
    {
      "cell_type": "code",
      "execution_count": 4,
      "metadata": {
        "id": "Ob2Qoq_2RO-r"
      },
      "outputs": [],
      "source": [
        "# Import Libraries\n",
        "import numpy as np\n",
        "import pandas as pd\n",
        "import matplotlib.pyplot as plt\n",
        "import seaborn as sns"
      ]
    },
    {
      "cell_type": "code",
      "source": [
        "# Import other useful libraries\n",
        "import re\n",
        "from datetime import datetime"
      ],
      "metadata": {
        "id": "g-aR67Rpudp5"
      },
      "execution_count": 5,
      "outputs": []
    },
    {
      "cell_type": "markdown",
      "source": [
        "## Read Data"
      ],
      "metadata": {
        "id": "n30yZmLYRf3Q"
      }
    },
    {
      "cell_type": "code",
      "source": [
        "# Connect with google drive ( Since working within colab)\n",
        "# from google.colab import drive\n",
        "# drive.mount('/content/drive')\n",
        "\n",
        "# %cd drive/MyDrive/'Colab Notebooks'/upgrad_MS/upgrad_case_study/LendingClub_CaseStudy/"
      ],
      "metadata": {
        "id": "KfqnENeXRyjo"
      },
      "execution_count": null,
      "outputs": []
    },
    {
      "cell_type": "code",
      "source": [
        "# Read loan.csv into dataframe\n",
        "df_loan = pd.read_csv(\"loan.csv\", sep=\",\")\n",
        "df_loan.info()"
      ],
      "metadata": {
        "id": "acJUXhaSRlwY"
      },
      "execution_count": null,
      "outputs": []
    },
    {
      "cell_type": "markdown",
      "metadata": {
        "id": "tLDKSt7fRO-x"
      },
      "source": [
        "## Data Understanding"
      ]
    },
    {
      "cell_type": "code",
      "execution_count": 8,
      "metadata": {
        "colab": {
          "base_uri": "https://localhost:8080/",
          "height": 386
        },
        "id": "T25o5BQvRO-z",
        "outputId": "5272c468-f710-4585-a837-07edc90655aa"
      },
      "outputs": [
        {
          "output_type": "execute_result",
          "data": {
            "text/plain": [
              "        id  member_id  loan_amnt  funded_amnt  funded_amnt_inv        term  \\\n",
              "0  1077501    1296599       5000         5000           4975.0   36 months   \n",
              "1  1077430    1314167       2500         2500           2500.0   60 months   \n",
              "2  1077175    1313524       2400         2400           2400.0   36 months   \n",
              "3  1076863    1277178      10000        10000          10000.0   36 months   \n",
              "4  1075358    1311748       3000         3000           3000.0   60 months   \n",
              "\n",
              "  int_rate  installment grade sub_grade  ... num_tl_90g_dpd_24m  \\\n",
              "0   10.65%       162.87     B        B2  ...                NaN   \n",
              "1   15.27%        59.83     C        C4  ...                NaN   \n",
              "2   15.96%        84.33     C        C5  ...                NaN   \n",
              "3   13.49%       339.31     C        C1  ...                NaN   \n",
              "4   12.69%        67.79     B        B5  ...                NaN   \n",
              "\n",
              "  num_tl_op_past_12m pct_tl_nvr_dlq  percent_bc_gt_75 pub_rec_bankruptcies  \\\n",
              "0                NaN            NaN               NaN                  0.0   \n",
              "1                NaN            NaN               NaN                  0.0   \n",
              "2                NaN            NaN               NaN                  0.0   \n",
              "3                NaN            NaN               NaN                  0.0   \n",
              "4                NaN            NaN               NaN                  0.0   \n",
              "\n",
              "  tax_liens tot_hi_cred_lim total_bal_ex_mort total_bc_limit  \\\n",
              "0       0.0             NaN               NaN            NaN   \n",
              "1       0.0             NaN               NaN            NaN   \n",
              "2       0.0             NaN               NaN            NaN   \n",
              "3       0.0             NaN               NaN            NaN   \n",
              "4       0.0             NaN               NaN            NaN   \n",
              "\n",
              "  total_il_high_credit_limit  \n",
              "0                        NaN  \n",
              "1                        NaN  \n",
              "2                        NaN  \n",
              "3                        NaN  \n",
              "4                        NaN  \n",
              "\n",
              "[5 rows x 111 columns]"
            ],
            "text/html": [
              "\n",
              "  <div id=\"df-e1d95017-9b6a-4bfd-ba75-d232da26378f\">\n",
              "    <div class=\"colab-df-container\">\n",
              "      <div>\n",
              "<style scoped>\n",
              "    .dataframe tbody tr th:only-of-type {\n",
              "        vertical-align: middle;\n",
              "    }\n",
              "\n",
              "    .dataframe tbody tr th {\n",
              "        vertical-align: top;\n",
              "    }\n",
              "\n",
              "    .dataframe thead th {\n",
              "        text-align: right;\n",
              "    }\n",
              "</style>\n",
              "<table border=\"1\" class=\"dataframe\">\n",
              "  <thead>\n",
              "    <tr style=\"text-align: right;\">\n",
              "      <th></th>\n",
              "      <th>id</th>\n",
              "      <th>member_id</th>\n",
              "      <th>loan_amnt</th>\n",
              "      <th>funded_amnt</th>\n",
              "      <th>funded_amnt_inv</th>\n",
              "      <th>term</th>\n",
              "      <th>int_rate</th>\n",
              "      <th>installment</th>\n",
              "      <th>grade</th>\n",
              "      <th>sub_grade</th>\n",
              "      <th>...</th>\n",
              "      <th>num_tl_90g_dpd_24m</th>\n",
              "      <th>num_tl_op_past_12m</th>\n",
              "      <th>pct_tl_nvr_dlq</th>\n",
              "      <th>percent_bc_gt_75</th>\n",
              "      <th>pub_rec_bankruptcies</th>\n",
              "      <th>tax_liens</th>\n",
              "      <th>tot_hi_cred_lim</th>\n",
              "      <th>total_bal_ex_mort</th>\n",
              "      <th>total_bc_limit</th>\n",
              "      <th>total_il_high_credit_limit</th>\n",
              "    </tr>\n",
              "  </thead>\n",
              "  <tbody>\n",
              "    <tr>\n",
              "      <th>0</th>\n",
              "      <td>1077501</td>\n",
              "      <td>1296599</td>\n",
              "      <td>5000</td>\n",
              "      <td>5000</td>\n",
              "      <td>4975.0</td>\n",
              "      <td>36 months</td>\n",
              "      <td>10.65%</td>\n",
              "      <td>162.87</td>\n",
              "      <td>B</td>\n",
              "      <td>B2</td>\n",
              "      <td>...</td>\n",
              "      <td>NaN</td>\n",
              "      <td>NaN</td>\n",
              "      <td>NaN</td>\n",
              "      <td>NaN</td>\n",
              "      <td>0.0</td>\n",
              "      <td>0.0</td>\n",
              "      <td>NaN</td>\n",
              "      <td>NaN</td>\n",
              "      <td>NaN</td>\n",
              "      <td>NaN</td>\n",
              "    </tr>\n",
              "    <tr>\n",
              "      <th>1</th>\n",
              "      <td>1077430</td>\n",
              "      <td>1314167</td>\n",
              "      <td>2500</td>\n",
              "      <td>2500</td>\n",
              "      <td>2500.0</td>\n",
              "      <td>60 months</td>\n",
              "      <td>15.27%</td>\n",
              "      <td>59.83</td>\n",
              "      <td>C</td>\n",
              "      <td>C4</td>\n",
              "      <td>...</td>\n",
              "      <td>NaN</td>\n",
              "      <td>NaN</td>\n",
              "      <td>NaN</td>\n",
              "      <td>NaN</td>\n",
              "      <td>0.0</td>\n",
              "      <td>0.0</td>\n",
              "      <td>NaN</td>\n",
              "      <td>NaN</td>\n",
              "      <td>NaN</td>\n",
              "      <td>NaN</td>\n",
              "    </tr>\n",
              "    <tr>\n",
              "      <th>2</th>\n",
              "      <td>1077175</td>\n",
              "      <td>1313524</td>\n",
              "      <td>2400</td>\n",
              "      <td>2400</td>\n",
              "      <td>2400.0</td>\n",
              "      <td>36 months</td>\n",
              "      <td>15.96%</td>\n",
              "      <td>84.33</td>\n",
              "      <td>C</td>\n",
              "      <td>C5</td>\n",
              "      <td>...</td>\n",
              "      <td>NaN</td>\n",
              "      <td>NaN</td>\n",
              "      <td>NaN</td>\n",
              "      <td>NaN</td>\n",
              "      <td>0.0</td>\n",
              "      <td>0.0</td>\n",
              "      <td>NaN</td>\n",
              "      <td>NaN</td>\n",
              "      <td>NaN</td>\n",
              "      <td>NaN</td>\n",
              "    </tr>\n",
              "    <tr>\n",
              "      <th>3</th>\n",
              "      <td>1076863</td>\n",
              "      <td>1277178</td>\n",
              "      <td>10000</td>\n",
              "      <td>10000</td>\n",
              "      <td>10000.0</td>\n",
              "      <td>36 months</td>\n",
              "      <td>13.49%</td>\n",
              "      <td>339.31</td>\n",
              "      <td>C</td>\n",
              "      <td>C1</td>\n",
              "      <td>...</td>\n",
              "      <td>NaN</td>\n",
              "      <td>NaN</td>\n",
              "      <td>NaN</td>\n",
              "      <td>NaN</td>\n",
              "      <td>0.0</td>\n",
              "      <td>0.0</td>\n",
              "      <td>NaN</td>\n",
              "      <td>NaN</td>\n",
              "      <td>NaN</td>\n",
              "      <td>NaN</td>\n",
              "    </tr>\n",
              "    <tr>\n",
              "      <th>4</th>\n",
              "      <td>1075358</td>\n",
              "      <td>1311748</td>\n",
              "      <td>3000</td>\n",
              "      <td>3000</td>\n",
              "      <td>3000.0</td>\n",
              "      <td>60 months</td>\n",
              "      <td>12.69%</td>\n",
              "      <td>67.79</td>\n",
              "      <td>B</td>\n",
              "      <td>B5</td>\n",
              "      <td>...</td>\n",
              "      <td>NaN</td>\n",
              "      <td>NaN</td>\n",
              "      <td>NaN</td>\n",
              "      <td>NaN</td>\n",
              "      <td>0.0</td>\n",
              "      <td>0.0</td>\n",
              "      <td>NaN</td>\n",
              "      <td>NaN</td>\n",
              "      <td>NaN</td>\n",
              "      <td>NaN</td>\n",
              "    </tr>\n",
              "  </tbody>\n",
              "</table>\n",
              "<p>5 rows × 111 columns</p>\n",
              "</div>\n",
              "      <button class=\"colab-df-convert\" onclick=\"convertToInteractive('df-e1d95017-9b6a-4bfd-ba75-d232da26378f')\"\n",
              "              title=\"Convert this dataframe to an interactive table.\"\n",
              "              style=\"display:none;\">\n",
              "        \n",
              "  <svg xmlns=\"http://www.w3.org/2000/svg\" height=\"24px\"viewBox=\"0 0 24 24\"\n",
              "       width=\"24px\">\n",
              "    <path d=\"M0 0h24v24H0V0z\" fill=\"none\"/>\n",
              "    <path d=\"M18.56 5.44l.94 2.06.94-2.06 2.06-.94-2.06-.94-.94-2.06-.94 2.06-2.06.94zm-11 1L8.5 8.5l.94-2.06 2.06-.94-2.06-.94L8.5 2.5l-.94 2.06-2.06.94zm10 10l.94 2.06.94-2.06 2.06-.94-2.06-.94-.94-2.06-.94 2.06-2.06.94z\"/><path d=\"M17.41 7.96l-1.37-1.37c-.4-.4-.92-.59-1.43-.59-.52 0-1.04.2-1.43.59L10.3 9.45l-7.72 7.72c-.78.78-.78 2.05 0 2.83L4 21.41c.39.39.9.59 1.41.59.51 0 1.02-.2 1.41-.59l7.78-7.78 2.81-2.81c.8-.78.8-2.07 0-2.86zM5.41 20L4 18.59l7.72-7.72 1.47 1.35L5.41 20z\"/>\n",
              "  </svg>\n",
              "      </button>\n",
              "      \n",
              "  <style>\n",
              "    .colab-df-container {\n",
              "      display:flex;\n",
              "      flex-wrap:wrap;\n",
              "      gap: 12px;\n",
              "    }\n",
              "\n",
              "    .colab-df-convert {\n",
              "      background-color: #E8F0FE;\n",
              "      border: none;\n",
              "      border-radius: 50%;\n",
              "      cursor: pointer;\n",
              "      display: none;\n",
              "      fill: #1967D2;\n",
              "      height: 32px;\n",
              "      padding: 0 0 0 0;\n",
              "      width: 32px;\n",
              "    }\n",
              "\n",
              "    .colab-df-convert:hover {\n",
              "      background-color: #E2EBFA;\n",
              "      box-shadow: 0px 1px 2px rgba(60, 64, 67, 0.3), 0px 1px 3px 1px rgba(60, 64, 67, 0.15);\n",
              "      fill: #174EA6;\n",
              "    }\n",
              "\n",
              "    [theme=dark] .colab-df-convert {\n",
              "      background-color: #3B4455;\n",
              "      fill: #D2E3FC;\n",
              "    }\n",
              "\n",
              "    [theme=dark] .colab-df-convert:hover {\n",
              "      background-color: #434B5C;\n",
              "      box-shadow: 0px 1px 3px 1px rgba(0, 0, 0, 0.15);\n",
              "      filter: drop-shadow(0px 1px 2px rgba(0, 0, 0, 0.3));\n",
              "      fill: #FFFFFF;\n",
              "    }\n",
              "  </style>\n",
              "\n",
              "      <script>\n",
              "        const buttonEl =\n",
              "          document.querySelector('#df-e1d95017-9b6a-4bfd-ba75-d232da26378f button.colab-df-convert');\n",
              "        buttonEl.style.display =\n",
              "          google.colab.kernel.accessAllowed ? 'block' : 'none';\n",
              "\n",
              "        async function convertToInteractive(key) {\n",
              "          const element = document.querySelector('#df-e1d95017-9b6a-4bfd-ba75-d232da26378f');\n",
              "          const dataTable =\n",
              "            await google.colab.kernel.invokeFunction('convertToInteractive',\n",
              "                                                     [key], {});\n",
              "          if (!dataTable) return;\n",
              "\n",
              "          const docLinkHtml = 'Like what you see? Visit the ' +\n",
              "            '<a target=\"_blank\" href=https://colab.research.google.com/notebooks/data_table.ipynb>data table notebook</a>'\n",
              "            + ' to learn more about interactive tables.';\n",
              "          element.innerHTML = '';\n",
              "          dataTable['output_type'] = 'display_data';\n",
              "          await google.colab.output.renderOutput(dataTable, element);\n",
              "          const docLink = document.createElement('div');\n",
              "          docLink.innerHTML = docLinkHtml;\n",
              "          element.appendChild(docLink);\n",
              "        }\n",
              "      </script>\n",
              "    </div>\n",
              "  </div>\n",
              "  "
            ]
          },
          "metadata": {},
          "execution_count": 8
        }
      ],
      "source": [
        "# Check sample of the df\n",
        "df_loan.head()"
      ]
    },
    {
      "cell_type": "code",
      "execution_count": 9,
      "metadata": {
        "colab": {
          "base_uri": "https://localhost:8080/"
        },
        "id": "4vYiz3NrRO-1",
        "outputId": "29813923-1e45-44f1-fbfa-02d01bc30745"
      },
      "outputs": [
        {
          "output_type": "execute_result",
          "data": {
            "text/plain": [
              "Index(['id', 'member_id', 'loan_amnt', 'funded_amnt', 'funded_amnt_inv',\n",
              "       'term', 'int_rate', 'installment', 'grade', 'sub_grade',\n",
              "       ...\n",
              "       'num_tl_90g_dpd_24m', 'num_tl_op_past_12m', 'pct_tl_nvr_dlq',\n",
              "       'percent_bc_gt_75', 'pub_rec_bankruptcies', 'tax_liens',\n",
              "       'tot_hi_cred_lim', 'total_bal_ex_mort', 'total_bc_limit',\n",
              "       'total_il_high_credit_limit'],\n",
              "      dtype='object', length=111)"
            ]
          },
          "metadata": {},
          "execution_count": 9
        }
      ],
      "source": [
        "# Check column of the df\n",
        "df_loan.columns"
      ]
    },
    {
      "cell_type": "code",
      "source": [
        "# Check shape of the df\n",
        "df_loan.shape"
      ],
      "metadata": {
        "colab": {
          "base_uri": "https://localhost:8080/"
        },
        "id": "f8A3T0scS4uR",
        "outputId": "34c7d16c-39a8-4f82-c203-185404f0e61e"
      },
      "execution_count": 10,
      "outputs": [
        {
          "output_type": "execute_result",
          "data": {
            "text/plain": [
              "(39717, 111)"
            ]
          },
          "metadata": {},
          "execution_count": 10
        }
      ]
    },
    {
      "cell_type": "markdown",
      "metadata": {
        "id": "sHaQb97SRO-2"
      },
      "source": [
        "As per the given dataset:\n",
        "\n",
        "  1. Important columns in the dataset: loan_amount, term, interest rate, grade, sub grade, annual income, purpose of the loan etc.\n",
        "  2. Here the ***target variable***, is loan_status, i.e to be compared across all the independent variables.\n",
        "  3. Analyse data by comparing the mean default_rate across various independent variables . Thus, depicting most affecting variables\n",
        ".\n",
        "\n"
      ]
    },
    {
      "cell_type": "markdown",
      "metadata": {
        "id": "8ASuM74cRO-4"
      },
      "source": [
        "# Data Cleaning\n",
        "\n",
        "Cross- validate dataset for missing values, and other data complications."
      ]
    },
    {
      "cell_type": "markdown",
      "source": [
        "### Missing data Validation and Treatment"
      ],
      "metadata": {
        "id": "SeZRu2gPrfGy"
      }
    },
    {
      "cell_type": "code",
      "execution_count": 11,
      "metadata": {
        "colab": {
          "base_uri": "https://localhost:8080/"
        },
        "id": "6cH3vHN8RO-7",
        "outputId": "93503c5f-0889-4b78-bac7-f9b5ee952e64"
      },
      "outputs": [
        {
          "output_type": "execute_result",
          "data": {
            "text/plain": [
              "id                              0.0\n",
              "member_id                       0.0\n",
              "loan_amnt                       0.0\n",
              "funded_amnt                     0.0\n",
              "funded_amnt_inv                 0.0\n",
              "                              ...  \n",
              "tax_liens                       0.0\n",
              "tot_hi_cred_lim               100.0\n",
              "total_bal_ex_mort             100.0\n",
              "total_bc_limit                100.0\n",
              "total_il_high_credit_limit    100.0\n",
              "Length: 111, dtype: float64"
            ]
          },
          "metadata": {},
          "execution_count": 11
        }
      ],
      "source": [
        "# Check missing data percentage in each column\n",
        "round(df_loan.isnull().sum()/len(df_loan.index), 2)*100"
      ]
    },
    {
      "cell_type": "markdown",
      "metadata": {
        "id": "ZnUhDR4YRO-9"
      },
      "source": [
        "- As per the above figures, the dataset have many columns have 100%, 90% missing values. \n",
        "- We can filter data on the basis of these missing values. By completely removing these columns."
      ]
    },
    {
      "cell_type": "code",
      "execution_count": 12,
      "metadata": {
        "id": "vK-SUWPYRO--"
      },
      "outputs": [],
      "source": [
        "# Filter columns having less than 90% missing values\n",
        "df_loan = df_loan[df_loan.columns[((df_loan.isnull().sum()/len(df_loan.index))*100) < 90]]"
      ]
    },
    {
      "cell_type": "code",
      "source": [
        "# Check columns, shape of updated data\n",
        "df_loan.columns, df_loan.shape"
      ],
      "metadata": {
        "colab": {
          "base_uri": "https://localhost:8080/"
        },
        "id": "5WCcMh3HmESF",
        "outputId": "1573f89d-f661-408b-d7f0-a023033c5cb9"
      },
      "execution_count": 13,
      "outputs": [
        {
          "output_type": "execute_result",
          "data": {
            "text/plain": [
              "(Index(['id', 'member_id', 'loan_amnt', 'funded_amnt', 'funded_amnt_inv',\n",
              "        'term', 'int_rate', 'installment', 'grade', 'sub_grade', 'emp_title',\n",
              "        'emp_length', 'home_ownership', 'annual_inc', 'verification_status',\n",
              "        'issue_d', 'loan_status', 'pymnt_plan', 'url', 'desc', 'purpose',\n",
              "        'title', 'zip_code', 'addr_state', 'dti', 'delinq_2yrs',\n",
              "        'earliest_cr_line', 'inq_last_6mths', 'mths_since_last_delinq',\n",
              "        'open_acc', 'pub_rec', 'revol_bal', 'revol_util', 'total_acc',\n",
              "        'initial_list_status', 'out_prncp', 'out_prncp_inv', 'total_pymnt',\n",
              "        'total_pymnt_inv', 'total_rec_prncp', 'total_rec_int',\n",
              "        'total_rec_late_fee', 'recoveries', 'collection_recovery_fee',\n",
              "        'last_pymnt_d', 'last_pymnt_amnt', 'last_credit_pull_d',\n",
              "        'collections_12_mths_ex_med', 'policy_code', 'application_type',\n",
              "        'acc_now_delinq', 'chargeoff_within_12_mths', 'delinq_amnt',\n",
              "        'pub_rec_bankruptcies', 'tax_liens'],\n",
              "       dtype='object'), (39717, 55))"
            ]
          },
          "metadata": {},
          "execution_count": 13
        }
      ]
    },
    {
      "cell_type": "code",
      "execution_count": 14,
      "metadata": {
        "colab": {
          "base_uri": "https://localhost:8080/"
        },
        "id": "QdoOzWeWRO_B",
        "outputId": "11c1b7c7-621d-428f-ea98-6fd4930fcb83"
      },
      "outputs": [
        {
          "output_type": "execute_result",
          "data": {
            "text/plain": [
              "id                             0.0\n",
              "member_id                      0.0\n",
              "loan_amnt                      0.0\n",
              "funded_amnt                    0.0\n",
              "funded_amnt_inv                0.0\n",
              "term                           0.0\n",
              "int_rate                       0.0\n",
              "installment                    0.0\n",
              "grade                          0.0\n",
              "sub_grade                      0.0\n",
              "emp_title                      6.0\n",
              "emp_length                     3.0\n",
              "home_ownership                 0.0\n",
              "annual_inc                     0.0\n",
              "verification_status            0.0\n",
              "issue_d                        0.0\n",
              "loan_status                    0.0\n",
              "pymnt_plan                     0.0\n",
              "url                            0.0\n",
              "desc                          33.0\n",
              "purpose                        0.0\n",
              "title                          0.0\n",
              "zip_code                       0.0\n",
              "addr_state                     0.0\n",
              "dti                            0.0\n",
              "delinq_2yrs                    0.0\n",
              "earliest_cr_line               0.0\n",
              "inq_last_6mths                 0.0\n",
              "mths_since_last_delinq        65.0\n",
              "open_acc                       0.0\n",
              "pub_rec                        0.0\n",
              "revol_bal                      0.0\n",
              "revol_util                     0.0\n",
              "total_acc                      0.0\n",
              "initial_list_status            0.0\n",
              "out_prncp                      0.0\n",
              "out_prncp_inv                  0.0\n",
              "total_pymnt                    0.0\n",
              "total_pymnt_inv                0.0\n",
              "total_rec_prncp                0.0\n",
              "total_rec_int                  0.0\n",
              "total_rec_late_fee             0.0\n",
              "recoveries                     0.0\n",
              "collection_recovery_fee        0.0\n",
              "last_pymnt_d                   0.0\n",
              "last_pymnt_amnt                0.0\n",
              "last_credit_pull_d             0.0\n",
              "collections_12_mths_ex_med     0.0\n",
              "policy_code                    0.0\n",
              "application_type               0.0\n",
              "acc_now_delinq                 0.0\n",
              "chargeoff_within_12_mths       0.0\n",
              "delinq_amnt                    0.0\n",
              "pub_rec_bankruptcies           2.0\n",
              "tax_liens                      0.0\n",
              "dtype: float64"
            ]
          },
          "metadata": {},
          "execution_count": 14
        }
      ],
      "source": [
        "# cross-check missing data percentage to re-varify\n",
        "round(df_loan.isnull().sum()/len(df_loan.index), 2)*100"
      ]
    },
    {
      "cell_type": "markdown",
      "source": [
        "- Here, the highest missing-values are in column *desc* and *mths_since_last_delinq* with 33% and 65% missing values.\n",
        "- These columns are :  \n",
        " - description \n",
        " - months since last delinquent"
      ],
      "metadata": {
        "id": "6RXYoR7jmyli"
      }
    },
    {
      "cell_type": "code",
      "execution_count": 15,
      "metadata": {
        "colab": {
          "base_uri": "https://localhost:8080/",
          "height": 300
        },
        "id": "nxGsFtinRO_D",
        "outputId": "f832c814-f41b-413b-dd54-cdfa0939d027"
      },
      "outputs": [
        {
          "output_type": "execute_result",
          "data": {
            "text/plain": [
              "                                                desc  mths_since_last_delinq\n",
              "0    Borrower added on 12/22/11 > I need to upgra...                     NaN\n",
              "1    Borrower added on 12/22/11 > I plan to use t...                     NaN\n",
              "2                                                NaN                     NaN\n",
              "3    Borrower added on 12/21/11 > to pay for prop...                    35.0\n",
              "4    Borrower added on 12/21/11 > I plan on combi...                    38.0\n",
              "5                                                NaN                     NaN\n",
              "6    Borrower added on 12/18/11 > I am planning o...                     NaN\n",
              "7    Borrower added on 12/16/11 > Downpayment for...                     NaN"
            ],
            "text/html": [
              "\n",
              "  <div id=\"df-93a862a6-7f12-48f5-a81b-d11377b4de16\">\n",
              "    <div class=\"colab-df-container\">\n",
              "      <div>\n",
              "<style scoped>\n",
              "    .dataframe tbody tr th:only-of-type {\n",
              "        vertical-align: middle;\n",
              "    }\n",
              "\n",
              "    .dataframe tbody tr th {\n",
              "        vertical-align: top;\n",
              "    }\n",
              "\n",
              "    .dataframe thead th {\n",
              "        text-align: right;\n",
              "    }\n",
              "</style>\n",
              "<table border=\"1\" class=\"dataframe\">\n",
              "  <thead>\n",
              "    <tr style=\"text-align: right;\">\n",
              "      <th></th>\n",
              "      <th>desc</th>\n",
              "      <th>mths_since_last_delinq</th>\n",
              "    </tr>\n",
              "  </thead>\n",
              "  <tbody>\n",
              "    <tr>\n",
              "      <th>0</th>\n",
              "      <td>Borrower added on 12/22/11 &gt; I need to upgra...</td>\n",
              "      <td>NaN</td>\n",
              "    </tr>\n",
              "    <tr>\n",
              "      <th>1</th>\n",
              "      <td>Borrower added on 12/22/11 &gt; I plan to use t...</td>\n",
              "      <td>NaN</td>\n",
              "    </tr>\n",
              "    <tr>\n",
              "      <th>2</th>\n",
              "      <td>NaN</td>\n",
              "      <td>NaN</td>\n",
              "    </tr>\n",
              "    <tr>\n",
              "      <th>3</th>\n",
              "      <td>Borrower added on 12/21/11 &gt; to pay for prop...</td>\n",
              "      <td>35.0</td>\n",
              "    </tr>\n",
              "    <tr>\n",
              "      <th>4</th>\n",
              "      <td>Borrower added on 12/21/11 &gt; I plan on combi...</td>\n",
              "      <td>38.0</td>\n",
              "    </tr>\n",
              "    <tr>\n",
              "      <th>5</th>\n",
              "      <td>NaN</td>\n",
              "      <td>NaN</td>\n",
              "    </tr>\n",
              "    <tr>\n",
              "      <th>6</th>\n",
              "      <td>Borrower added on 12/18/11 &gt; I am planning o...</td>\n",
              "      <td>NaN</td>\n",
              "    </tr>\n",
              "    <tr>\n",
              "      <th>7</th>\n",
              "      <td>Borrower added on 12/16/11 &gt; Downpayment for...</td>\n",
              "      <td>NaN</td>\n",
              "    </tr>\n",
              "  </tbody>\n",
              "</table>\n",
              "</div>\n",
              "      <button class=\"colab-df-convert\" onclick=\"convertToInteractive('df-93a862a6-7f12-48f5-a81b-d11377b4de16')\"\n",
              "              title=\"Convert this dataframe to an interactive table.\"\n",
              "              style=\"display:none;\">\n",
              "        \n",
              "  <svg xmlns=\"http://www.w3.org/2000/svg\" height=\"24px\"viewBox=\"0 0 24 24\"\n",
              "       width=\"24px\">\n",
              "    <path d=\"M0 0h24v24H0V0z\" fill=\"none\"/>\n",
              "    <path d=\"M18.56 5.44l.94 2.06.94-2.06 2.06-.94-2.06-.94-.94-2.06-.94 2.06-2.06.94zm-11 1L8.5 8.5l.94-2.06 2.06-.94-2.06-.94L8.5 2.5l-.94 2.06-2.06.94zm10 10l.94 2.06.94-2.06 2.06-.94-2.06-.94-.94-2.06-.94 2.06-2.06.94z\"/><path d=\"M17.41 7.96l-1.37-1.37c-.4-.4-.92-.59-1.43-.59-.52 0-1.04.2-1.43.59L10.3 9.45l-7.72 7.72c-.78.78-.78 2.05 0 2.83L4 21.41c.39.39.9.59 1.41.59.51 0 1.02-.2 1.41-.59l7.78-7.78 2.81-2.81c.8-.78.8-2.07 0-2.86zM5.41 20L4 18.59l7.72-7.72 1.47 1.35L5.41 20z\"/>\n",
              "  </svg>\n",
              "      </button>\n",
              "      \n",
              "  <style>\n",
              "    .colab-df-container {\n",
              "      display:flex;\n",
              "      flex-wrap:wrap;\n",
              "      gap: 12px;\n",
              "    }\n",
              "\n",
              "    .colab-df-convert {\n",
              "      background-color: #E8F0FE;\n",
              "      border: none;\n",
              "      border-radius: 50%;\n",
              "      cursor: pointer;\n",
              "      display: none;\n",
              "      fill: #1967D2;\n",
              "      height: 32px;\n",
              "      padding: 0 0 0 0;\n",
              "      width: 32px;\n",
              "    }\n",
              "\n",
              "    .colab-df-convert:hover {\n",
              "      background-color: #E2EBFA;\n",
              "      box-shadow: 0px 1px 2px rgba(60, 64, 67, 0.3), 0px 1px 3px 1px rgba(60, 64, 67, 0.15);\n",
              "      fill: #174EA6;\n",
              "    }\n",
              "\n",
              "    [theme=dark] .colab-df-convert {\n",
              "      background-color: #3B4455;\n",
              "      fill: #D2E3FC;\n",
              "    }\n",
              "\n",
              "    [theme=dark] .colab-df-convert:hover {\n",
              "      background-color: #434B5C;\n",
              "      box-shadow: 0px 1px 3px 1px rgba(0, 0, 0, 0.15);\n",
              "      filter: drop-shadow(0px 1px 2px rgba(0, 0, 0, 0.3));\n",
              "      fill: #FFFFFF;\n",
              "    }\n",
              "  </style>\n",
              "\n",
              "      <script>\n",
              "        const buttonEl =\n",
              "          document.querySelector('#df-93a862a6-7f12-48f5-a81b-d11377b4de16 button.colab-df-convert');\n",
              "        buttonEl.style.display =\n",
              "          google.colab.kernel.accessAllowed ? 'block' : 'none';\n",
              "\n",
              "        async function convertToInteractive(key) {\n",
              "          const element = document.querySelector('#df-93a862a6-7f12-48f5-a81b-d11377b4de16');\n",
              "          const dataTable =\n",
              "            await google.colab.kernel.invokeFunction('convertToInteractive',\n",
              "                                                     [key], {});\n",
              "          if (!dataTable) return;\n",
              "\n",
              "          const docLinkHtml = 'Like what you see? Visit the ' +\n",
              "            '<a target=\"_blank\" href=https://colab.research.google.com/notebooks/data_table.ipynb>data table notebook</a>'\n",
              "            + ' to learn more about interactive tables.';\n",
              "          element.innerHTML = '';\n",
              "          dataTable['output_type'] = 'display_data';\n",
              "          await google.colab.output.renderOutput(dataTable, element);\n",
              "          const docLink = document.createElement('div');\n",
              "          docLink.innerHTML = docLinkHtml;\n",
              "          element.appendChild(docLink);\n",
              "        }\n",
              "      </script>\n",
              "    </div>\n",
              "  </div>\n",
              "  "
            ]
          },
          "metadata": {},
          "execution_count": 15
        }
      ],
      "source": [
        "# Check data in column\n",
        "df_loan.loc[:, ['desc', 'mths_since_last_delinq']].head(8)"
      ]
    },
    {
      "cell_type": "markdown",
      "metadata": {
        "id": "I3Q6LhClRO_E"
      },
      "source": [
        " As per the description provided, \n",
        " - Column *desc* have customer's comments while applying for loan. Though, information such as such as sentiment, number of positive/negative words can be derived, but as per current scope of the Case-study, this column can be filtered out.  \n",
        "\n",
        "- Column *mths_since_last_delinq* represents The number of months since the borrower's last delinquency. Since this information is added months later, thus it is not important while approving loan. Thus considering scope of the case study, this column can also be filtered safely."
      ]
    },
    {
      "cell_type": "code",
      "execution_count": 16,
      "metadata": {
        "id": "HlvjbbLHRO_F"
      },
      "outputs": [],
      "source": [
        "# Drop 'desc', 'mths_since_last_delinq'\n",
        "df_loan = df_loan.drop(['desc', 'mths_since_last_delinq'], axis=1)"
      ]
    },
    {
      "cell_type": "code",
      "execution_count": 17,
      "metadata": {
        "colab": {
          "base_uri": "https://localhost:8080/"
        },
        "id": "dFheWpcXRO_G",
        "outputId": "e0acabf5-549e-4ae7-842a-a5a16bf8f810"
      },
      "outputs": [
        {
          "output_type": "execute_result",
          "data": {
            "text/plain": [
              "id                            0.0\n",
              "member_id                     0.0\n",
              "loan_amnt                     0.0\n",
              "funded_amnt                   0.0\n",
              "funded_amnt_inv               0.0\n",
              "term                          0.0\n",
              "int_rate                      0.0\n",
              "installment                   0.0\n",
              "grade                         0.0\n",
              "sub_grade                     0.0\n",
              "emp_title                     6.0\n",
              "emp_length                    3.0\n",
              "home_ownership                0.0\n",
              "annual_inc                    0.0\n",
              "verification_status           0.0\n",
              "issue_d                       0.0\n",
              "loan_status                   0.0\n",
              "pymnt_plan                    0.0\n",
              "url                           0.0\n",
              "purpose                       0.0\n",
              "title                         0.0\n",
              "zip_code                      0.0\n",
              "addr_state                    0.0\n",
              "dti                           0.0\n",
              "delinq_2yrs                   0.0\n",
              "earliest_cr_line              0.0\n",
              "inq_last_6mths                0.0\n",
              "open_acc                      0.0\n",
              "pub_rec                       0.0\n",
              "revol_bal                     0.0\n",
              "revol_util                    0.0\n",
              "total_acc                     0.0\n",
              "initial_list_status           0.0\n",
              "out_prncp                     0.0\n",
              "out_prncp_inv                 0.0\n",
              "total_pymnt                   0.0\n",
              "total_pymnt_inv               0.0\n",
              "total_rec_prncp               0.0\n",
              "total_rec_int                 0.0\n",
              "total_rec_late_fee            0.0\n",
              "recoveries                    0.0\n",
              "collection_recovery_fee       0.0\n",
              "last_pymnt_d                  0.0\n",
              "last_pymnt_amnt               0.0\n",
              "last_credit_pull_d            0.0\n",
              "collections_12_mths_ex_med    0.0\n",
              "policy_code                   0.0\n",
              "application_type              0.0\n",
              "acc_now_delinq                0.0\n",
              "chargeoff_within_12_mths      0.0\n",
              "delinq_amnt                   0.0\n",
              "pub_rec_bankruptcies          2.0\n",
              "tax_liens                     0.0\n",
              "dtype: float64"
            ]
          },
          "metadata": {},
          "execution_count": 17
        }
      ],
      "source": [
        "# cross-check missing data percentage to re-varify\n",
        "round(df_loan.isnull().sum()/len(df_loan.index), 2)*100"
      ]
    },
    {
      "cell_type": "markdown",
      "metadata": {
        "id": "ISFg1DbARO_H"
      },
      "source": [
        "Thus, our data looks highly populated after missing- data treatment."
      ]
    },
    {
      "cell_type": "code",
      "execution_count": 18,
      "metadata": {
        "colab": {
          "base_uri": "https://localhost:8080/"
        },
        "id": "mFKChn84RO_I",
        "outputId": "a8464ff3-14aa-4843-9f5f-acde79ec1b2d"
      },
      "outputs": [
        {
          "output_type": "execute_result",
          "data": {
            "text/plain": [
              "0"
            ]
          },
          "metadata": {},
          "execution_count": 18
        }
      ],
      "source": [
        "# For data-sanity, check if rows have greater than 5 missing values\n",
        "len(df_loan[df_loan.isnull().sum(axis=1) > 5].index)"
      ]
    },
    {
      "cell_type": "markdown",
      "metadata": {
        "id": "bW6mfa_8RO_K"
      },
      "source": [
        "### Validate Data-format of **columns**"
      ]
    },
    {
      "cell_type": "code",
      "execution_count": 19,
      "metadata": {
        "colab": {
          "base_uri": "https://localhost:8080/"
        },
        "id": "ZjrpcxHIRO_L",
        "outputId": "431ca91d-d87e-4c29-fc20-adee63c79348"
      },
      "outputs": [
        {
          "output_type": "stream",
          "name": "stdout",
          "text": [
            "<class 'pandas.core.frame.DataFrame'>\n",
            "RangeIndex: 39717 entries, 0 to 39716\n",
            "Data columns (total 53 columns):\n",
            " #   Column                      Non-Null Count  Dtype  \n",
            "---  ------                      --------------  -----  \n",
            " 0   id                          39717 non-null  int64  \n",
            " 1   member_id                   39717 non-null  int64  \n",
            " 2   loan_amnt                   39717 non-null  int64  \n",
            " 3   funded_amnt                 39717 non-null  int64  \n",
            " 4   funded_amnt_inv             39717 non-null  float64\n",
            " 5   term                        39717 non-null  object \n",
            " 6   int_rate                    39717 non-null  object \n",
            " 7   installment                 39717 non-null  float64\n",
            " 8   grade                       39717 non-null  object \n",
            " 9   sub_grade                   39717 non-null  object \n",
            " 10  emp_title                   37258 non-null  object \n",
            " 11  emp_length                  38642 non-null  object \n",
            " 12  home_ownership              39717 non-null  object \n",
            " 13  annual_inc                  39717 non-null  float64\n",
            " 14  verification_status         39717 non-null  object \n",
            " 15  issue_d                     39717 non-null  object \n",
            " 16  loan_status                 39717 non-null  object \n",
            " 17  pymnt_plan                  39717 non-null  object \n",
            " 18  url                         39717 non-null  object \n",
            " 19  purpose                     39717 non-null  object \n",
            " 20  title                       39706 non-null  object \n",
            " 21  zip_code                    39717 non-null  object \n",
            " 22  addr_state                  39717 non-null  object \n",
            " 23  dti                         39717 non-null  float64\n",
            " 24  delinq_2yrs                 39717 non-null  int64  \n",
            " 25  earliest_cr_line            39717 non-null  object \n",
            " 26  inq_last_6mths              39717 non-null  int64  \n",
            " 27  open_acc                    39717 non-null  int64  \n",
            " 28  pub_rec                     39717 non-null  int64  \n",
            " 29  revol_bal                   39717 non-null  int64  \n",
            " 30  revol_util                  39667 non-null  object \n",
            " 31  total_acc                   39717 non-null  int64  \n",
            " 32  initial_list_status         39717 non-null  object \n",
            " 33  out_prncp                   39717 non-null  float64\n",
            " 34  out_prncp_inv               39717 non-null  float64\n",
            " 35  total_pymnt                 39717 non-null  float64\n",
            " 36  total_pymnt_inv             39717 non-null  float64\n",
            " 37  total_rec_prncp             39717 non-null  float64\n",
            " 38  total_rec_int               39717 non-null  float64\n",
            " 39  total_rec_late_fee          39717 non-null  float64\n",
            " 40  recoveries                  39717 non-null  float64\n",
            " 41  collection_recovery_fee     39717 non-null  float64\n",
            " 42  last_pymnt_d                39646 non-null  object \n",
            " 43  last_pymnt_amnt             39717 non-null  float64\n",
            " 44  last_credit_pull_d          39715 non-null  object \n",
            " 45  collections_12_mths_ex_med  39661 non-null  float64\n",
            " 46  policy_code                 39717 non-null  int64  \n",
            " 47  application_type            39717 non-null  object \n",
            " 48  acc_now_delinq              39717 non-null  int64  \n",
            " 49  chargeoff_within_12_mths    39661 non-null  float64\n",
            " 50  delinq_amnt                 39717 non-null  int64  \n",
            " 51  pub_rec_bankruptcies        39020 non-null  float64\n",
            " 52  tax_liens                   39678 non-null  float64\n",
            "dtypes: float64(18), int64(13), object(22)\n",
            "memory usage: 16.1+ MB\n"
          ]
        }
      ],
      "source": [
        "# Check data-format of columns\n",
        "df_loan.info()"
      ]
    },
    {
      "cell_type": "code",
      "execution_count": 20,
      "metadata": {
        "id": "S8dXepFyRO_M"
      },
      "outputs": [],
      "source": [
        "# Update int_rate column from character to float and remove '%' character\n",
        "df_loan['int_rate'] = df_loan['int_rate'].apply(lambda x: pd.to_numeric(x.split(\"%\")[0]))"
      ]
    },
    {
      "cell_type": "code",
      "source": [
        "# Check data-values\n",
        "df_loan['int_rate'].head()"
      ],
      "metadata": {
        "colab": {
          "base_uri": "https://localhost:8080/"
        },
        "id": "gRY_9BmwtGEy",
        "outputId": "1d017781-9bd6-41cb-9a42-d417b84c77b2"
      },
      "execution_count": 21,
      "outputs": [
        {
          "output_type": "execute_result",
          "data": {
            "text/plain": [
              "0    10.65\n",
              "1    15.27\n",
              "2    15.96\n",
              "3    13.49\n",
              "4    12.69\n",
              "Name: int_rate, dtype: float64"
            ]
          },
          "metadata": {},
          "execution_count": 21
        }
      ]
    },
    {
      "cell_type": "code",
      "execution_count": 22,
      "metadata": {
        "colab": {
          "base_uri": "https://localhost:8080/"
        },
        "id": "GI3FTZz6RO_N",
        "outputId": "0f16405f-aeb8-426a-dfa4-6d1d75be1884"
      },
      "outputs": [
        {
          "output_type": "stream",
          "name": "stdout",
          "text": [
            "<class 'pandas.core.frame.DataFrame'>\n",
            "RangeIndex: 39717 entries, 0 to 39716\n",
            "Data columns (total 53 columns):\n",
            " #   Column                      Non-Null Count  Dtype  \n",
            "---  ------                      --------------  -----  \n",
            " 0   id                          39717 non-null  int64  \n",
            " 1   member_id                   39717 non-null  int64  \n",
            " 2   loan_amnt                   39717 non-null  int64  \n",
            " 3   funded_amnt                 39717 non-null  int64  \n",
            " 4   funded_amnt_inv             39717 non-null  float64\n",
            " 5   term                        39717 non-null  object \n",
            " 6   int_rate                    39717 non-null  float64\n",
            " 7   installment                 39717 non-null  float64\n",
            " 8   grade                       39717 non-null  object \n",
            " 9   sub_grade                   39717 non-null  object \n",
            " 10  emp_title                   37258 non-null  object \n",
            " 11  emp_length                  38642 non-null  object \n",
            " 12  home_ownership              39717 non-null  object \n",
            " 13  annual_inc                  39717 non-null  float64\n",
            " 14  verification_status         39717 non-null  object \n",
            " 15  issue_d                     39717 non-null  object \n",
            " 16  loan_status                 39717 non-null  object \n",
            " 17  pymnt_plan                  39717 non-null  object \n",
            " 18  url                         39717 non-null  object \n",
            " 19  purpose                     39717 non-null  object \n",
            " 20  title                       39706 non-null  object \n",
            " 21  zip_code                    39717 non-null  object \n",
            " 22  addr_state                  39717 non-null  object \n",
            " 23  dti                         39717 non-null  float64\n",
            " 24  delinq_2yrs                 39717 non-null  int64  \n",
            " 25  earliest_cr_line            39717 non-null  object \n",
            " 26  inq_last_6mths              39717 non-null  int64  \n",
            " 27  open_acc                    39717 non-null  int64  \n",
            " 28  pub_rec                     39717 non-null  int64  \n",
            " 29  revol_bal                   39717 non-null  int64  \n",
            " 30  revol_util                  39667 non-null  object \n",
            " 31  total_acc                   39717 non-null  int64  \n",
            " 32  initial_list_status         39717 non-null  object \n",
            " 33  out_prncp                   39717 non-null  float64\n",
            " 34  out_prncp_inv               39717 non-null  float64\n",
            " 35  total_pymnt                 39717 non-null  float64\n",
            " 36  total_pymnt_inv             39717 non-null  float64\n",
            " 37  total_rec_prncp             39717 non-null  float64\n",
            " 38  total_rec_int               39717 non-null  float64\n",
            " 39  total_rec_late_fee          39717 non-null  float64\n",
            " 40  recoveries                  39717 non-null  float64\n",
            " 41  collection_recovery_fee     39717 non-null  float64\n",
            " 42  last_pymnt_d                39646 non-null  object \n",
            " 43  last_pymnt_amnt             39717 non-null  float64\n",
            " 44  last_credit_pull_d          39715 non-null  object \n",
            " 45  collections_12_mths_ex_med  39661 non-null  float64\n",
            " 46  policy_code                 39717 non-null  int64  \n",
            " 47  application_type            39717 non-null  object \n",
            " 48  acc_now_delinq              39717 non-null  int64  \n",
            " 49  chargeoff_within_12_mths    39661 non-null  float64\n",
            " 50  delinq_amnt                 39717 non-null  int64  \n",
            " 51  pub_rec_bankruptcies        39020 non-null  float64\n",
            " 52  tax_liens                   39678 non-null  float64\n",
            "dtypes: float64(19), int64(13), object(21)\n",
            "memory usage: 16.1+ MB\n"
          ]
        }
      ],
      "source": [
        "# Cross- validate data-types\n",
        "df_loan.info()"
      ]
    },
    {
      "cell_type": "code",
      "source": [
        "# Also, check and update emp_length column from character to float and remove special character\n",
        "df_loan['emp_length']"
      ],
      "metadata": {
        "colab": {
          "base_uri": "https://localhost:8080/"
        },
        "id": "uATAuuQktZI4",
        "outputId": "d5e344f3-a52b-413f-9647-3ee0ca653b3d"
      },
      "execution_count": 23,
      "outputs": [
        {
          "output_type": "execute_result",
          "data": {
            "text/plain": [
              "0        10+ years\n",
              "1         < 1 year\n",
              "2        10+ years\n",
              "3        10+ years\n",
              "4           1 year\n",
              "           ...    \n",
              "39712      4 years\n",
              "39713      3 years\n",
              "39714     < 1 year\n",
              "39715     < 1 year\n",
              "39716     < 1 year\n",
              "Name: emp_length, Length: 39717, dtype: object"
            ]
          },
          "metadata": {},
          "execution_count": 23
        }
      ]
    },
    {
      "cell_type": "code",
      "source": [
        "# Performing missing value-treatment for 'emp_length' column\n",
        "df_loan = df_loan[~df_loan['emp_length'].isnull()]"
      ],
      "metadata": {
        "id": "k1SbLf21uEwD"
      },
      "execution_count": 24,
      "outputs": []
    },
    {
      "cell_type": "code",
      "execution_count": 25,
      "metadata": {
        "id": "TyfLJsN8RO_P"
      },
      "outputs": [],
      "source": [
        "# Update emp_length column from character to float and remove special character\n",
        "df_loan['emp_length'] = df_loan['emp_length'].apply(lambda x: re.findall('\\d+', str(x))[0])"
      ]
    },
    {
      "cell_type": "code",
      "source": [
        "# Check updated data\n",
        "df_loan['emp_length'].head(4)"
      ],
      "metadata": {
        "colab": {
          "base_uri": "https://localhost:8080/"
        },
        "id": "hgR2lauTvGeW",
        "outputId": "d0173c3b-1eba-4d8f-c743-bf3538172d0c"
      },
      "execution_count": 26,
      "outputs": [
        {
          "output_type": "execute_result",
          "data": {
            "text/plain": [
              "0    10\n",
              "1     1\n",
              "2    10\n",
              "3    10\n",
              "Name: emp_length, dtype: object"
            ]
          },
          "metadata": {},
          "execution_count": 26
        }
      ]
    },
    {
      "cell_type": "code",
      "source": [
        "#  Cross- validate data-types\n",
        "df_loan.dtypes"
      ],
      "metadata": {
        "colab": {
          "base_uri": "https://localhost:8080/"
        },
        "id": "4WuhgBmSu7Be",
        "outputId": "c8ed6f24-615f-4d59-9e07-377b220932c7"
      },
      "execution_count": 27,
      "outputs": [
        {
          "output_type": "execute_result",
          "data": {
            "text/plain": [
              "id                              int64\n",
              "member_id                       int64\n",
              "loan_amnt                       int64\n",
              "funded_amnt                     int64\n",
              "funded_amnt_inv               float64\n",
              "term                           object\n",
              "int_rate                      float64\n",
              "installment                   float64\n",
              "grade                          object\n",
              "sub_grade                      object\n",
              "emp_title                      object\n",
              "emp_length                     object\n",
              "home_ownership                 object\n",
              "annual_inc                    float64\n",
              "verification_status            object\n",
              "issue_d                        object\n",
              "loan_status                    object\n",
              "pymnt_plan                     object\n",
              "url                            object\n",
              "purpose                        object\n",
              "title                          object\n",
              "zip_code                       object\n",
              "addr_state                     object\n",
              "dti                           float64\n",
              "delinq_2yrs                     int64\n",
              "earliest_cr_line               object\n",
              "inq_last_6mths                  int64\n",
              "open_acc                        int64\n",
              "pub_rec                         int64\n",
              "revol_bal                       int64\n",
              "revol_util                     object\n",
              "total_acc                       int64\n",
              "initial_list_status            object\n",
              "out_prncp                     float64\n",
              "out_prncp_inv                 float64\n",
              "total_pymnt                   float64\n",
              "total_pymnt_inv               float64\n",
              "total_rec_prncp               float64\n",
              "total_rec_int                 float64\n",
              "total_rec_late_fee            float64\n",
              "recoveries                    float64\n",
              "collection_recovery_fee       float64\n",
              "last_pymnt_d                   object\n",
              "last_pymnt_amnt               float64\n",
              "last_credit_pull_d             object\n",
              "collections_12_mths_ex_med    float64\n",
              "policy_code                     int64\n",
              "application_type               object\n",
              "acc_now_delinq                  int64\n",
              "chargeoff_within_12_mths      float64\n",
              "delinq_amnt                     int64\n",
              "pub_rec_bankruptcies          float64\n",
              "tax_liens                     float64\n",
              "dtype: object"
            ]
          },
          "metadata": {},
          "execution_count": 27
        }
      ]
    },
    {
      "cell_type": "code",
      "source": [
        "# Convert column emp_length to numeric\n",
        "df_loan['emp_length'] = df_loan['emp_length'].apply(lambda x: pd.to_numeric(x))"
      ],
      "metadata": {
        "id": "JjILS6hUu5dO"
      },
      "execution_count": 28,
      "outputs": []
    },
    {
      "cell_type": "code",
      "execution_count": 29,
      "metadata": {
        "colab": {
          "base_uri": "https://localhost:8080/"
        },
        "id": "LZ7_NNwmRO_Q",
        "outputId": "887c9d39-68c8-4273-f93a-b1cd44268685"
      },
      "outputs": [
        {
          "output_type": "stream",
          "name": "stdout",
          "text": [
            "<class 'pandas.core.frame.DataFrame'>\n",
            "Int64Index: 38642 entries, 0 to 39716\n",
            "Data columns (total 53 columns):\n",
            " #   Column                      Non-Null Count  Dtype  \n",
            "---  ------                      --------------  -----  \n",
            " 0   id                          38642 non-null  int64  \n",
            " 1   member_id                   38642 non-null  int64  \n",
            " 2   loan_amnt                   38642 non-null  int64  \n",
            " 3   funded_amnt                 38642 non-null  int64  \n",
            " 4   funded_amnt_inv             38642 non-null  float64\n",
            " 5   term                        38642 non-null  object \n",
            " 6   int_rate                    38642 non-null  float64\n",
            " 7   installment                 38642 non-null  float64\n",
            " 8   grade                       38642 non-null  object \n",
            " 9   sub_grade                   38642 non-null  object \n",
            " 10  emp_title                   37202 non-null  object \n",
            " 11  emp_length                  38642 non-null  int64  \n",
            " 12  home_ownership              38642 non-null  object \n",
            " 13  annual_inc                  38642 non-null  float64\n",
            " 14  verification_status         38642 non-null  object \n",
            " 15  issue_d                     38642 non-null  object \n",
            " 16  loan_status                 38642 non-null  object \n",
            " 17  pymnt_plan                  38642 non-null  object \n",
            " 18  url                         38642 non-null  object \n",
            " 19  purpose                     38642 non-null  object \n",
            " 20  title                       38632 non-null  object \n",
            " 21  zip_code                    38642 non-null  object \n",
            " 22  addr_state                  38642 non-null  object \n",
            " 23  dti                         38642 non-null  float64\n",
            " 24  delinq_2yrs                 38642 non-null  int64  \n",
            " 25  earliest_cr_line            38642 non-null  object \n",
            " 26  inq_last_6mths              38642 non-null  int64  \n",
            " 27  open_acc                    38642 non-null  int64  \n",
            " 28  pub_rec                     38642 non-null  int64  \n",
            " 29  revol_bal                   38642 non-null  int64  \n",
            " 30  revol_util                  38595 non-null  object \n",
            " 31  total_acc                   38642 non-null  int64  \n",
            " 32  initial_list_status         38642 non-null  object \n",
            " 33  out_prncp                   38642 non-null  float64\n",
            " 34  out_prncp_inv               38642 non-null  float64\n",
            " 35  total_pymnt                 38642 non-null  float64\n",
            " 36  total_pymnt_inv             38642 non-null  float64\n",
            " 37  total_rec_prncp             38642 non-null  float64\n",
            " 38  total_rec_int               38642 non-null  float64\n",
            " 39  total_rec_late_fee          38642 non-null  float64\n",
            " 40  recoveries                  38642 non-null  float64\n",
            " 41  collection_recovery_fee     38642 non-null  float64\n",
            " 42  last_pymnt_d                38576 non-null  object \n",
            " 43  last_pymnt_amnt             38642 non-null  float64\n",
            " 44  last_credit_pull_d          38640 non-null  object \n",
            " 45  collections_12_mths_ex_med  38586 non-null  float64\n",
            " 46  policy_code                 38642 non-null  int64  \n",
            " 47  application_type            38642 non-null  object \n",
            " 48  acc_now_delinq              38642 non-null  int64  \n",
            " 49  chargeoff_within_12_mths    38586 non-null  float64\n",
            " 50  delinq_amnt                 38642 non-null  int64  \n",
            " 51  pub_rec_bankruptcies        37945 non-null  float64\n",
            " 52  tax_liens                   38603 non-null  float64\n",
            "dtypes: float64(19), int64(14), object(20)\n",
            "memory usage: 15.9+ MB\n"
          ]
        }
      ],
      "source": [
        "#  Cross- validate data-types\n",
        "df_loan.info()"
      ]
    },
    {
      "cell_type": "markdown",
      "metadata": {
        "id": "tKClL0oeRO_S"
      },
      "source": [
        "# Data Analysis\n",
        "\n",
        "- As per the main objective of the case study, it is crucial to understand and detect the predictors for *default*, in a way that such variables can be utilised for approval/rejection of loan. \n",
        "- Here, we have broadly three types of variables - \n",
        " 1. Demographic variables such as age, occupation etc\n",
        " 2. Loan characteristics such as loan amount, interest rate, purpose of loan etc.\n",
        " 3. Customer behaviour variables such as delinquent 2 years, revolving balance, next payment date etc. As per nature of variables, these are generated after the loan is dispersed.\n",
        "\n",
        "- Here, since customer behaviour variables are not present at the loan application/ approval time, therefore these cannot be ustilised as credit-approval predictors.\n",
        "\n",
        "- Hence, utilising Demographic variables and Loan characteristics variables.\n",
        "\n"
      ]
    },
    {
      "cell_type": "markdown",
      "source": [
        "## Feature Selection"
      ],
      "metadata": {
        "id": "P4cuq5qs5hrS"
      }
    },
    {
      "cell_type": "code",
      "source": [
        "# Initiate data anlysis dataframe, to keep the orginal intact\n",
        "df_analysis = df_loan.copy()"
      ],
      "metadata": {
        "id": "mYAU7sNcHLEo"
      },
      "execution_count": 30,
      "outputs": []
    },
    {
      "cell_type": "code",
      "execution_count": 31,
      "metadata": {
        "id": "bg0o7UfKRO_T"
      },
      "outputs": [],
      "source": [
        "# List all behaviour variables\n",
        "behaviour_variable =  [ \"delinq_2yrs\", \"earliest_cr_line\",\"inq_last_6mths\", \"open_acc\",\"pub_rec\",\"revol_bal\",\"revol_util\", \"total_acc\",\"out_prncp\", \"out_prncp_inv\",\"total_pymnt\",\n",
        "  \"total_pymnt_inv\",\"total_rec_prncp\",\"total_rec_int\",\"total_rec_late_fee\", \"recoveries\",\"collection_recovery_fee\",\"last_pymnt_d\",\"last_pymnt_amnt\",\"last_credit_pull_d\",\n",
        "  \"application_type\"]"
      ]
    },
    {
      "cell_type": "code",
      "execution_count": 32,
      "metadata": {
        "colab": {
          "base_uri": "https://localhost:8080/"
        },
        "id": "jbc8AH2YRO_U",
        "outputId": "c4d57817-58ce-4ea3-b9d8-245b5792dcf1"
      },
      "outputs": [
        {
          "output_type": "stream",
          "name": "stdout",
          "text": [
            "<class 'pandas.core.frame.DataFrame'>\n",
            "Int64Index: 38642 entries, 0 to 39716\n",
            "Data columns (total 32 columns):\n",
            " #   Column                      Non-Null Count  Dtype  \n",
            "---  ------                      --------------  -----  \n",
            " 0   id                          38642 non-null  int64  \n",
            " 1   member_id                   38642 non-null  int64  \n",
            " 2   loan_amnt                   38642 non-null  int64  \n",
            " 3   funded_amnt                 38642 non-null  int64  \n",
            " 4   funded_amnt_inv             38642 non-null  float64\n",
            " 5   term                        38642 non-null  object \n",
            " 6   int_rate                    38642 non-null  float64\n",
            " 7   installment                 38642 non-null  float64\n",
            " 8   grade                       38642 non-null  object \n",
            " 9   sub_grade                   38642 non-null  object \n",
            " 10  emp_title                   37202 non-null  object \n",
            " 11  emp_length                  38642 non-null  int64  \n",
            " 12  home_ownership              38642 non-null  object \n",
            " 13  annual_inc                  38642 non-null  float64\n",
            " 14  verification_status         38642 non-null  object \n",
            " 15  issue_d                     38642 non-null  object \n",
            " 16  loan_status                 38642 non-null  object \n",
            " 17  pymnt_plan                  38642 non-null  object \n",
            " 18  url                         38642 non-null  object \n",
            " 19  purpose                     38642 non-null  object \n",
            " 20  title                       38632 non-null  object \n",
            " 21  zip_code                    38642 non-null  object \n",
            " 22  addr_state                  38642 non-null  object \n",
            " 23  dti                         38642 non-null  float64\n",
            " 24  initial_list_status         38642 non-null  object \n",
            " 25  collections_12_mths_ex_med  38586 non-null  float64\n",
            " 26  policy_code                 38642 non-null  int64  \n",
            " 27  acc_now_delinq              38642 non-null  int64  \n",
            " 28  chargeoff_within_12_mths    38586 non-null  float64\n",
            " 29  delinq_amnt                 38642 non-null  int64  \n",
            " 30  pub_rec_bankruptcies        37945 non-null  float64\n",
            " 31  tax_liens                   38603 non-null  float64\n",
            "dtypes: float64(9), int64(8), object(15)\n",
            "memory usage: 9.7+ MB\n"
          ]
        }
      ],
      "source": [
        "# Dropping the columns with the behaviour variables\n",
        "df_analysis = df_analysis.drop(behaviour_variable, axis=1)\n",
        "df_analysis.info()"
      ]
    },
    {
      "cell_type": "code",
      "execution_count": 33,
      "metadata": {
        "id": "yiM03dpnRO_W"
      },
      "outputs": [],
      "source": [
        "# Also, as per data analysis scope, 'title', 'url', 'zip_code', 'addr_state' could not be utilised\n",
        "df_analysis = df_analysis.drop(['title', 'url', 'zip_code', 'addr_state'], axis=1)"
      ]
    },
    {
      "cell_type": "markdown",
      "metadata": {
        "id": "qQ3XfK5XRO_W"
      },
      "source": [
        "For analysis with respect to target variable i.e. *loan_status*, converting data to binary, mentioning Fully Paid = 1, else = 0.\n"
      ]
    },
    {
      "cell_type": "code",
      "execution_count": 34,
      "metadata": {
        "colab": {
          "base_uri": "https://localhost:8080/"
        },
        "id": "Y73U1M4SRO_X",
        "outputId": "324e0d78-26f5-4c31-830a-73e077cecc95"
      },
      "outputs": [
        {
          "output_type": "execute_result",
          "data": {
            "text/plain": [
              "Fully Paid     32145\n",
              "Charged Off     5399\n",
              "Current         1098\n",
              "Name: loan_status, dtype: int64"
            ]
          },
          "metadata": {},
          "execution_count": 34
        }
      ],
      "source": [
        "# Cross-checking target variable\n",
        "df_analysis['loan_status'].value_counts()"
      ]
    },
    {
      "cell_type": "code",
      "source": [
        "# Here 'current' are neither fully paid not defaulted, thus dropping these. Also, it it still in running mode.\n",
        "df_analysis = df_analysis[df_analysis['loan_status'].isin(['Fully Paid','Charged Off'])]"
      ],
      "metadata": {
        "id": "sTktntRS3o10"
      },
      "execution_count": 35,
      "outputs": []
    },
    {
      "cell_type": "code",
      "source": [
        "# Cross-checking loan_status variable\n",
        "df_analysis['loan_status'].value_counts()"
      ],
      "metadata": {
        "colab": {
          "base_uri": "https://localhost:8080/"
        },
        "id": "o1qU-una4fwH",
        "outputId": "5dfcbf4e-0b5c-422e-e5af-977df367ab41"
      },
      "execution_count": 36,
      "outputs": [
        {
          "output_type": "execute_result",
          "data": {
            "text/plain": [
              "Fully Paid     32145\n",
              "Charged Off     5399\n",
              "Name: loan_status, dtype: int64"
            ]
          },
          "metadata": {},
          "execution_count": 36
        }
      ]
    },
    {
      "cell_type": "code",
      "execution_count": 37,
      "metadata": {
        "id": "mJp2zWfmRO_Y",
        "colab": {
          "base_uri": "https://localhost:8080/"
        },
        "outputId": "447430c7-ead9-470a-e186-e707f7fab7bf"
      },
      "outputs": [
        {
          "output_type": "stream",
          "name": "stderr",
          "text": [
            "/usr/local/lib/python3.7/dist-packages/ipykernel_launcher.py:2: SettingWithCopyWarning: \n",
            "A value is trying to be set on a copy of a slice from a DataFrame.\n",
            "Try using .loc[row_indexer,col_indexer] = value instead\n",
            "\n",
            "See the caveats in the documentation: https://pandas.pydata.org/pandas-docs/stable/user_guide/indexing.html#returning-a-view-versus-a-copy\n",
            "  \n"
          ]
        }
      ],
      "source": [
        "# Convert data to binary, mentioning Fully Paid = 0, else = 1.\n",
        "df_analysis['loan_status'] = df_analysis['loan_status'].map({'Fully Paid':0,'Charged Off':1})"
      ]
    },
    {
      "cell_type": "code",
      "source": [
        "# Change type of loan_status\n",
        "df_analysis['loan_status'] = df_analysis['loan_status'].apply(lambda x: pd.to_numeric(x))"
      ],
      "metadata": {
        "id": "hihc41F45Ga5"
      },
      "execution_count": 38,
      "outputs": []
    },
    {
      "cell_type": "code",
      "source": [
        "# Cross-checking loan_status variable\n",
        "df_analysis['loan_status'].value_counts()"
      ],
      "metadata": {
        "colab": {
          "base_uri": "https://localhost:8080/"
        },
        "id": "mxuC3f8a5JTH",
        "outputId": "76d027a1-2e1a-4d26-9cd0-cd22bcd7d06e"
      },
      "execution_count": 39,
      "outputs": [
        {
          "output_type": "execute_result",
          "data": {
            "text/plain": [
              "0    32145\n",
              "1     5399\n",
              "Name: loan_status, dtype: int64"
            ]
          },
          "metadata": {},
          "execution_count": 39
        }
      ]
    },
    {
      "cell_type": "markdown",
      "metadata": {
        "id": "ZcrXFomERO_Z"
      },
      "source": [
        "\n",
        "## Univariate Analysis"
      ]
    },
    {
      "cell_type": "markdown",
      "metadata": {
        "id": "bXsKiPsfRO_b"
      },
      "source": [
        "### Defaulter within Categorical variables\n",
        "\n",
        "\n"
      ]
    },
    {
      "cell_type": "code",
      "execution_count": 40,
      "metadata": {
        "colab": {
          "base_uri": "https://localhost:8080/",
          "height": 279
        },
        "id": "qOCRp3liRO_c",
        "outputId": "2d2d7ccd-3bab-43b6-d4bc-7940114274dd"
      },
      "outputs": [
        {
          "output_type": "display_data",
          "data": {
            "text/plain": [
              "<Figure size 432x288 with 1 Axes>"
            ],
            "image/png": "[encoded data removed]"
          },
          "metadata": {
            "needs_background": "light"
          }
        }
      ],
      "source": [
        "# Analyse/Visualise data across grade\n",
        "sns.barplot(x='grade', y='loan_status', data = df_analysis)\n",
        "plt.show()"
      ]
    },
    {
      "cell_type": "code",
      "execution_count": 41,
      "metadata": {
        "colab": {
          "base_uri": "https://localhost:8080/",
          "height": 335
        },
        "id": "AS4NVq6_RO_g",
        "outputId": "32d6444a-0801-4e0e-fd74-0c02f8729e9c"
      },
      "outputs": [
        {
          "output_type": "display_data",
          "data": {
            "text/plain": [
              "<Figure size 1080x360 with 1 Axes>"
            ],
            "image/png": "[encoded data removed]"
          },
          "metadata": {
            "needs_background": "light"
          }
        }
      ],
      "source": [
        "# Analyse/Visualise data across sub_grade\n",
        "plt.figure(figsize=(15, 5))\n",
        "sns.barplot(x='sub_grade', y='loan_status', data = df_analysis)\n",
        "plt.show()"
      ]
    },
    {
      "cell_type": "code",
      "execution_count": 42,
      "metadata": {
        "colab": {
          "base_uri": "https://localhost:8080/",
          "height": 279
        },
        "id": "8gj--sIxRO_f",
        "outputId": "d5c233a6-62e0-4d01-afc3-d6434bc00923"
      },
      "outputs": [
        {
          "output_type": "display_data",
          "data": {
            "text/plain": [
              "<Figure size 432x288 with 1 Axes>"
            ],
            "image/png": "[encoded data removed]"
          },
          "metadata": {
            "needs_background": "light"
          }
        }
      ],
      "source": [
        "# Analyse/Visualise data across term\n",
        "sns.barplot(x='term', y='loan_status', data = df_analysis)\n",
        "plt.show()"
      ]
    },
    {
      "cell_type": "code",
      "execution_count": 43,
      "metadata": {
        "colab": {
          "base_uri": "https://localhost:8080/",
          "height": 280
        },
        "id": "X0sT_xA4RO_i",
        "outputId": "640df39b-4421-4075-f05e-0ad409a23fde"
      },
      "outputs": [
        {
          "output_type": "display_data",
          "data": {
            "text/plain": [
              "<Figure size 432x288 with 1 Axes>"
            ],
            "image/png": "[encoded data removed]"
          },
          "metadata": {
            "needs_background": "light"
          }
        }
      ],
      "source": [
        "# Analyse/Visualise data across verification_status\n",
        "sns.barplot(x='verification_status', y='loan_status', data = df_analysis)\n",
        "plt.show()"
      ]
    },
    {
      "cell_type": "code",
      "execution_count": 44,
      "metadata": {
        "colab": {
          "base_uri": "https://localhost:8080/",
          "height": 280
        },
        "id": "rfcOmz7NRO_h",
        "outputId": "3eac1f5b-46aa-4ebc-8f6d-ee9fb623f936"
      },
      "outputs": [
        {
          "output_type": "display_data",
          "data": {
            "text/plain": [
              "<Figure size 432x288 with 1 Axes>"
            ],
            "image/png": "[encoded data removed]"
          },
          "metadata": {
            "needs_background": "light"
          }
        }
      ],
      "source": [
        "# Analyse/Visualise data across home ownership(home_ownership does not have much difference)\n",
        "sns.barplot(x='home_ownership', y='loan_status', data = df_analysis)\n",
        "plt.show()"
      ]
    },
    {
      "cell_type": "code",
      "execution_count": 45,
      "metadata": {
        "colab": {
          "base_uri": "https://localhost:8080/",
          "height": 383
        },
        "id": "qd9kSAweRO_j",
        "outputId": "fab0d12c-6cba-4b87-a66e-b79733a2dcf3"
      },
      "outputs": [
        {
          "output_type": "display_data",
          "data": {
            "text/plain": [
              "<Figure size 1080x360 with 1 Axes>"
            ],
            "image/png": "[encoded data removed]"
          },
          "metadata": {
            "needs_background": "light"
          }
        }
      ],
      "source": [
        "# Analyse/Visualise data across purpose\n",
        "plt.figure(figsize=(15, 5))\n",
        "sns.barplot(x='purpose', y='loan_status', data = df_analysis)\n",
        "plt.xticks(rotation=30)\n",
        "plt.show()"
      ]
    },
    {
      "cell_type": "code",
      "source": [
        "# Analyse number of loans in each purpose\n",
        "plt.figure(figsize=(15, 5))\n",
        "sns.countplot(x='purpose', data=df_analysis)\n",
        "plt.xticks(rotation=30)\n",
        "plt.show()"
      ],
      "metadata": {
        "colab": {
          "base_uri": "https://localhost:8080/",
          "height": 383
        },
        "id": "6cWfypcW4qaQ",
        "outputId": "e8ea7914-0e73-4874-ab99-90fed09d3988"
      },
      "execution_count": 46,
      "outputs": [
        {
          "output_type": "display_data",
          "data": {
            "text/plain": [
              "<Figure size 1080x360 with 1 Axes>"
            ],
            "image/png": "[encoded data removed]"
          },
          "metadata": {
            "needs_background": "light"
          }
        }
      ]
    },
    {
      "cell_type": "markdown",
      "source": [
        "### Derived Metrices"
      ],
      "metadata": {
        "id": "_gISysPG9dUC"
      }
    },
    {
      "cell_type": "code",
      "execution_count": 47,
      "metadata": {
        "id": "ZF7sLA0WRO_k",
        "outputId": "bbde55a5-69d0-43f6-f49e-8c2b60aa093e",
        "colab": {
          "base_uri": "https://localhost:8080/"
        }
      },
      "outputs": [
        {
          "output_type": "execute_result",
          "data": {
            "text/plain": [
              "0    Dec-11\n",
              "1    Dec-11\n",
              "2    Dec-11\n",
              "3    Dec-11\n",
              "5    Dec-11\n",
              "Name: issue_d, dtype: object"
            ]
          },
          "metadata": {},
          "execution_count": 47
        }
      ],
      "source": [
        "#  Also, Analyse/Visualise data across years.\n",
        "df_analysis['issue_d'].head()"
      ]
    },
    {
      "cell_type": "code",
      "execution_count": 48,
      "metadata": {
        "id": "O_oVKigjRO_t"
      },
      "outputs": [],
      "source": [
        "# Get year data from issue_d\n",
        "df_analysis['issue_d'] = df_analysis['issue_d'].apply(lambda x: datetime.strptime(x, '%b-%y'))"
      ]
    },
    {
      "cell_type": "code",
      "execution_count": 49,
      "metadata": {
        "id": "boKckZSRRO_u"
      },
      "outputs": [],
      "source": [
        "# Get month and year information from issue_d\n",
        "df_analysis['month'] = df_analysis['issue_d'].apply(lambda x: x.month)\n",
        "df_analysis['year'] = df_analysis['issue_d'].apply(lambda x: x.year)"
      ]
    },
    {
      "cell_type": "code",
      "execution_count": 50,
      "metadata": {
        "colab": {
          "base_uri": "https://localhost:8080/",
          "height": 237
        },
        "id": "8It7A1_nRO_u",
        "outputId": "1e13389b-8ce9-45a1-e10b-145c114c89fa"
      },
      "outputs": [
        {
          "output_type": "execute_result",
          "data": {
            "text/plain": [
              "       year\n",
              "year       \n",
              "2007    251\n",
              "2008   1562\n",
              "2009   4716\n",
              "2010  11214\n",
              "2011  19801"
            ],
            "text/html": [
              "\n",
              "  <div id=\"df-7c642ac2-3462-49df-96a7-c1cfd61127c2\">\n",
              "    <div class=\"colab-df-container\">\n",
              "      <div>\n",
              "<style scoped>\n",
              "    .dataframe tbody tr th:only-of-type {\n",
              "        vertical-align: middle;\n",
              "    }\n",
              "\n",
              "    .dataframe tbody tr th {\n",
              "        vertical-align: top;\n",
              "    }\n",
              "\n",
              "    .dataframe thead th {\n",
              "        text-align: right;\n",
              "    }\n",
              "</style>\n",
              "<table border=\"1\" class=\"dataframe\">\n",
              "  <thead>\n",
              "    <tr style=\"text-align: right;\">\n",
              "      <th></th>\n",
              "      <th>year</th>\n",
              "    </tr>\n",
              "    <tr>\n",
              "      <th>year</th>\n",
              "      <th></th>\n",
              "    </tr>\n",
              "  </thead>\n",
              "  <tbody>\n",
              "    <tr>\n",
              "      <th>2007</th>\n",
              "      <td>251</td>\n",
              "    </tr>\n",
              "    <tr>\n",
              "      <th>2008</th>\n",
              "      <td>1562</td>\n",
              "    </tr>\n",
              "    <tr>\n",
              "      <th>2009</th>\n",
              "      <td>4716</td>\n",
              "    </tr>\n",
              "    <tr>\n",
              "      <th>2010</th>\n",
              "      <td>11214</td>\n",
              "    </tr>\n",
              "    <tr>\n",
              "      <th>2011</th>\n",
              "      <td>19801</td>\n",
              "    </tr>\n",
              "  </tbody>\n",
              "</table>\n",
              "</div>\n",
              "      <button class=\"colab-df-convert\" onclick=\"convertToInteractive('df-7c642ac2-3462-49df-96a7-c1cfd61127c2')\"\n",
              "              title=\"Convert this dataframe to an interactive table.\"\n",
              "              style=\"display:none;\">\n",
              "        \n",
              "  <svg xmlns=\"http://www.w3.org/2000/svg\" height=\"24px\"viewBox=\"0 0 24 24\"\n",
              "       width=\"24px\">\n",
              "    <path d=\"M0 0h24v24H0V0z\" fill=\"none\"/>\n",
              "    <path d=\"M18.56 5.44l.94 2.06.94-2.06 2.06-.94-2.06-.94-.94-2.06-.94 2.06-2.06.94zm-11 1L8.5 8.5l.94-2.06 2.06-.94-2.06-.94L8.5 2.5l-.94 2.06-2.06.94zm10 10l.94 2.06.94-2.06 2.06-.94-2.06-.94-.94-2.06-.94 2.06-2.06.94z\"/><path d=\"M17.41 7.96l-1.37-1.37c-.4-.4-.92-.59-1.43-.59-.52 0-1.04.2-1.43.59L10.3 9.45l-7.72 7.72c-.78.78-.78 2.05 0 2.83L4 21.41c.39.39.9.59 1.41.59.51 0 1.02-.2 1.41-.59l7.78-7.78 2.81-2.81c.8-.78.8-2.07 0-2.86zM5.41 20L4 18.59l7.72-7.72 1.47 1.35L5.41 20z\"/>\n",
              "  </svg>\n",
              "      </button>\n",
              "      \n",
              "  <style>\n",
              "    .colab-df-container {\n",
              "      display:flex;\n",
              "      flex-wrap:wrap;\n",
              "      gap: 12px;\n",
              "    }\n",
              "\n",
              "    .colab-df-convert {\n",
              "      background-color: #E8F0FE;\n",
              "      border: none;\n",
              "      border-radius: 50%;\n",
              "      cursor: pointer;\n",
              "      display: none;\n",
              "      fill: #1967D2;\n",
              "      height: 32px;\n",
              "      padding: 0 0 0 0;\n",
              "      width: 32px;\n",
              "    }\n",
              "\n",
              "    .colab-df-convert:hover {\n",
              "      background-color: #E2EBFA;\n",
              "      box-shadow: 0px 1px 2px rgba(60, 64, 67, 0.3), 0px 1px 3px 1px rgba(60, 64, 67, 0.15);\n",
              "      fill: #174EA6;\n",
              "    }\n",
              "\n",
              "    [theme=dark] .colab-df-convert {\n",
              "      background-color: #3B4455;\n",
              "      fill: #D2E3FC;\n",
              "    }\n",
              "\n",
              "    [theme=dark] .colab-df-convert:hover {\n",
              "      background-color: #434B5C;\n",
              "      box-shadow: 0px 1px 3px 1px rgba(0, 0, 0, 0.15);\n",
              "      filter: drop-shadow(0px 1px 2px rgba(0, 0, 0, 0.3));\n",
              "      fill: #FFFFFF;\n",
              "    }\n",
              "  </style>\n",
              "\n",
              "      <script>\n",
              "        const buttonEl =\n",
              "          document.querySelector('#df-7c642ac2-3462-49df-96a7-c1cfd61127c2 button.colab-df-convert');\n",
              "        buttonEl.style.display =\n",
              "          google.colab.kernel.accessAllowed ? 'block' : 'none';\n",
              "\n",
              "        async function convertToInteractive(key) {\n",
              "          const element = document.querySelector('#df-7c642ac2-3462-49df-96a7-c1cfd61127c2');\n",
              "          const dataTable =\n",
              "            await google.colab.kernel.invokeFunction('convertToInteractive',\n",
              "                                                     [key], {});\n",
              "          if (!dataTable) return;\n",
              "\n",
              "          const docLinkHtml = 'Like what you see? Visit the ' +\n",
              "            '<a target=\"_blank\" href=https://colab.research.google.com/notebooks/data_table.ipynb>data table notebook</a>'\n",
              "            + ' to learn more about interactive tables.';\n",
              "          element.innerHTML = '';\n",
              "          dataTable['output_type'] = 'display_data';\n",
              "          await google.colab.output.renderOutput(dataTable, element);\n",
              "          const docLink = document.createElement('div');\n",
              "          docLink.innerHTML = docLinkHtml;\n",
              "          element.appendChild(docLink);\n",
              "        }\n",
              "      </script>\n",
              "    </div>\n",
              "  </div>\n",
              "  "
            ]
          },
          "metadata": {},
          "execution_count": 50
        }
      ],
      "source": [
        "# Check loans granted across years. Number of loans is increasing greatly across years.\n",
        "pd.DataFrame(df_analysis.groupby('year').year.count())"
      ]
    },
    {
      "cell_type": "code",
      "source": [
        "# Analyse/Visualise data across years.\n",
        "sns.barplot(x='year', y='loan_status', data = df_analysis)\n",
        "plt.show()"
      ],
      "metadata": {
        "colab": {
          "base_uri": "https://localhost:8080/",
          "height": 279
        },
        "id": "V8T9fCtaBRKv",
        "outputId": "cfeb4119-39dc-4799-f16b-45c0dea91d66"
      },
      "execution_count": 51,
      "outputs": [
        {
          "output_type": "display_data",
          "data": {
            "text/plain": [
              "<Figure size 432x288 with 1 Axes>"
            ],
            "image/png": "[encoded data removed]"
          },
          "metadata": {
            "needs_background": "light"
          }
        }
      ]
    },
    {
      "cell_type": "code",
      "execution_count": 52,
      "metadata": {
        "colab": {
          "base_uri": "https://localhost:8080/",
          "height": 457
        },
        "id": "0Lsd7saLRO_x",
        "outputId": "6690d812-796d-458a-a226-f293182a8f05"
      },
      "outputs": [
        {
          "output_type": "execute_result",
          "data": {
            "text/plain": [
              "       month\n",
              "month       \n",
              "1       2331\n",
              "2       2278\n",
              "3       2632\n",
              "4       2756\n",
              "5       2838\n",
              "6       3094\n",
              "7       3253\n",
              "8       3321\n",
              "9       3394\n",
              "10      3637\n",
              "11      3890\n",
              "12      4120"
            ],
            "text/html": [
              "\n",
              "  <div id=\"df-dbcba428-5a72-46b5-8ccb-c11ad198362c\">\n",
              "    <div class=\"colab-df-container\">\n",
              "      <div>\n",
              "<style scoped>\n",
              "    .dataframe tbody tr th:only-of-type {\n",
              "        vertical-align: middle;\n",
              "    }\n",
              "\n",
              "    .dataframe tbody tr th {\n",
              "        vertical-align: top;\n",
              "    }\n",
              "\n",
              "    .dataframe thead th {\n",
              "        text-align: right;\n",
              "    }\n",
              "</style>\n",
              "<table border=\"1\" class=\"dataframe\">\n",
              "  <thead>\n",
              "    <tr style=\"text-align: right;\">\n",
              "      <th></th>\n",
              "      <th>month</th>\n",
              "    </tr>\n",
              "    <tr>\n",
              "      <th>month</th>\n",
              "      <th></th>\n",
              "    </tr>\n",
              "  </thead>\n",
              "  <tbody>\n",
              "    <tr>\n",
              "      <th>1</th>\n",
              "      <td>2331</td>\n",
              "    </tr>\n",
              "    <tr>\n",
              "      <th>2</th>\n",
              "      <td>2278</td>\n",
              "    </tr>\n",
              "    <tr>\n",
              "      <th>3</th>\n",
              "      <td>2632</td>\n",
              "    </tr>\n",
              "    <tr>\n",
              "      <th>4</th>\n",
              "      <td>2756</td>\n",
              "    </tr>\n",
              "    <tr>\n",
              "      <th>5</th>\n",
              "      <td>2838</td>\n",
              "    </tr>\n",
              "    <tr>\n",
              "      <th>6</th>\n",
              "      <td>3094</td>\n",
              "    </tr>\n",
              "    <tr>\n",
              "      <th>7</th>\n",
              "      <td>3253</td>\n",
              "    </tr>\n",
              "    <tr>\n",
              "      <th>8</th>\n",
              "      <td>3321</td>\n",
              "    </tr>\n",
              "    <tr>\n",
              "      <th>9</th>\n",
              "      <td>3394</td>\n",
              "    </tr>\n",
              "    <tr>\n",
              "      <th>10</th>\n",
              "      <td>3637</td>\n",
              "    </tr>\n",
              "    <tr>\n",
              "      <th>11</th>\n",
              "      <td>3890</td>\n",
              "    </tr>\n",
              "    <tr>\n",
              "      <th>12</th>\n",
              "      <td>4120</td>\n",
              "    </tr>\n",
              "  </tbody>\n",
              "</table>\n",
              "</div>\n",
              "      <button class=\"colab-df-convert\" onclick=\"convertToInteractive('df-dbcba428-5a72-46b5-8ccb-c11ad198362c')\"\n",
              "              title=\"Convert this dataframe to an interactive table.\"\n",
              "              style=\"display:none;\">\n",
              "        \n",
              "  <svg xmlns=\"http://www.w3.org/2000/svg\" height=\"24px\"viewBox=\"0 0 24 24\"\n",
              "       width=\"24px\">\n",
              "    <path d=\"M0 0h24v24H0V0z\" fill=\"none\"/>\n",
              "    <path d=\"M18.56 5.44l.94 2.06.94-2.06 2.06-.94-2.06-.94-.94-2.06-.94 2.06-2.06.94zm-11 1L8.5 8.5l.94-2.06 2.06-.94-2.06-.94L8.5 2.5l-.94 2.06-2.06.94zm10 10l.94 2.06.94-2.06 2.06-.94-2.06-.94-.94-2.06-.94 2.06-2.06.94z\"/><path d=\"M17.41 7.96l-1.37-1.37c-.4-.4-.92-.59-1.43-.59-.52 0-1.04.2-1.43.59L10.3 9.45l-7.72 7.72c-.78.78-.78 2.05 0 2.83L4 21.41c.39.39.9.59 1.41.59.51 0 1.02-.2 1.41-.59l7.78-7.78 2.81-2.81c.8-.78.8-2.07 0-2.86zM5.41 20L4 18.59l7.72-7.72 1.47 1.35L5.41 20z\"/>\n",
              "  </svg>\n",
              "      </button>\n",
              "      \n",
              "  <style>\n",
              "    .colab-df-container {\n",
              "      display:flex;\n",
              "      flex-wrap:wrap;\n",
              "      gap: 12px;\n",
              "    }\n",
              "\n",
              "    .colab-df-convert {\n",
              "      background-color: #E8F0FE;\n",
              "      border: none;\n",
              "      border-radius: 50%;\n",
              "      cursor: pointer;\n",
              "      display: none;\n",
              "      fill: #1967D2;\n",
              "      height: 32px;\n",
              "      padding: 0 0 0 0;\n",
              "      width: 32px;\n",
              "    }\n",
              "\n",
              "    .colab-df-convert:hover {\n",
              "      background-color: #E2EBFA;\n",
              "      box-shadow: 0px 1px 2px rgba(60, 64, 67, 0.3), 0px 1px 3px 1px rgba(60, 64, 67, 0.15);\n",
              "      fill: #174EA6;\n",
              "    }\n",
              "\n",
              "    [theme=dark] .colab-df-convert {\n",
              "      background-color: #3B4455;\n",
              "      fill: #D2E3FC;\n",
              "    }\n",
              "\n",
              "    [theme=dark] .colab-df-convert:hover {\n",
              "      background-color: #434B5C;\n",
              "      box-shadow: 0px 1px 3px 1px rgba(0, 0, 0, 0.15);\n",
              "      filter: drop-shadow(0px 1px 2px rgba(0, 0, 0, 0.3));\n",
              "      fill: #FFFFFF;\n",
              "    }\n",
              "  </style>\n",
              "\n",
              "      <script>\n",
              "        const buttonEl =\n",
              "          document.querySelector('#df-dbcba428-5a72-46b5-8ccb-c11ad198362c button.colab-df-convert');\n",
              "        buttonEl.style.display =\n",
              "          google.colab.kernel.accessAllowed ? 'block' : 'none';\n",
              "\n",
              "        async function convertToInteractive(key) {\n",
              "          const element = document.querySelector('#df-dbcba428-5a72-46b5-8ccb-c11ad198362c');\n",
              "          const dataTable =\n",
              "            await google.colab.kernel.invokeFunction('convertToInteractive',\n",
              "                                                     [key], {});\n",
              "          if (!dataTable) return;\n",
              "\n",
              "          const docLinkHtml = 'Like what you see? Visit the ' +\n",
              "            '<a target=\"_blank\" href=https://colab.research.google.com/notebooks/data_table.ipynb>data table notebook</a>'\n",
              "            + ' to learn more about interactive tables.';\n",
              "          element.innerHTML = '';\n",
              "          dataTable['output_type'] = 'display_data';\n",
              "          await google.colab.output.renderOutput(dataTable, element);\n",
              "          const docLink = document.createElement('div');\n",
              "          docLink.innerHTML = docLinkHtml;\n",
              "          element.appendChild(docLink);\n",
              "        }\n",
              "      </script>\n",
              "    </div>\n",
              "  </div>\n",
              "  "
            ]
          },
          "metadata": {},
          "execution_count": 52
        }
      ],
      "source": [
        "# Check loans granted across months. Mostly, loans dispersed in 3rd and 4th quarter\n",
        "pd.DataFrame(df_analysis.groupby('month').month.count())"
      ]
    },
    {
      "cell_type": "code",
      "execution_count": 53,
      "metadata": {
        "colab": {
          "base_uri": "https://localhost:8080/",
          "height": 279
        },
        "id": "2TAxPqtpRO_0",
        "outputId": "bacf15cf-a4e2-44c5-d851-398a83b2f49f"
      },
      "outputs": [
        {
          "output_type": "display_data",
          "data": {
            "text/plain": [
              "<Figure size 432x288 with 1 Axes>"
            ],
            "image/png": "[encoded data removed]"
          },
          "metadata": {
            "needs_background": "light"
          }
        }
      ],
      "source": [
        "# Analyse/Visualise data across years.\n",
        "sns.barplot(x='month', y='loan_status', data = df_analysis)\n",
        "plt.show()"
      ]
    },
    {
      "cell_type": "markdown",
      "metadata": {
        "id": "JI-wTvaXRO_1"
      },
      "source": [
        "### Defaulter within Continuous variables"
      ]
    },
    {
      "cell_type": "code",
      "source": [
        "df_analysis.columns"
      ],
      "metadata": {
        "colab": {
          "base_uri": "https://localhost:8080/"
        },
        "id": "McjwPKf_uug_",
        "outputId": "ca865095-ce10-4c8c-bcd3-99061f2fe6df"
      },
      "execution_count": 54,
      "outputs": [
        {
          "output_type": "execute_result",
          "data": {
            "text/plain": [
              "Index(['id', 'member_id', 'loan_amnt', 'funded_amnt', 'funded_amnt_inv',\n",
              "       'term', 'int_rate', 'installment', 'grade', 'sub_grade', 'emp_title',\n",
              "       'emp_length', 'home_ownership', 'annual_inc', 'verification_status',\n",
              "       'issue_d', 'loan_status', 'pymnt_plan', 'purpose', 'dti',\n",
              "       'initial_list_status', 'collections_12_mths_ex_med', 'policy_code',\n",
              "       'acc_now_delinq', 'chargeoff_within_12_mths', 'delinq_amnt',\n",
              "       'pub_rec_bankruptcies', 'tax_liens', 'month', 'year'],\n",
              "      dtype='object')"
            ]
          },
          "metadata": {},
          "execution_count": 54
        }
      ]
    },
    {
      "cell_type": "code",
      "execution_count": 55,
      "metadata": {
        "colab": {
          "base_uri": "https://localhost:8080/",
          "height": 335
        },
        "id": "H-inqUUaRO_2",
        "outputId": "c5b5eec9-8bda-4dc9-883e-4d232da5e7ee"
      },
      "outputs": [
        {
          "output_type": "display_data",
          "data": {
            "text/plain": [
              "<Figure size 1080x360 with 1 Axes>"
            ],
            "image/png": "[encoded data removed]"
          },
          "metadata": {
            "needs_background": "light"
          }
        }
      ],
      "source": [
        "# Analyse/Visualise data across loan amount: the maximum loan range amount is between 5000-10000\n",
        "plt.figure(figsize=(15,5))\n",
        "sns.histplot(df_analysis['loan_amnt'])\n",
        "plt.show()"
      ]
    },
    {
      "cell_type": "markdown",
      "metadata": {
        "id": "2jdGKU-rRO_3"
      },
      "source": [
        "- Binning Continuous variables to analyse defaut-rates\n",
        "- Bins used :  small, medium, high, very high."
      ]
    },
    {
      "cell_type": "code",
      "execution_count": 56,
      "metadata": {
        "id": "0O3xqqJcRO_4",
        "colab": {
          "base_uri": "https://localhost:8080/"
        },
        "outputId": "8c916779-9840-4891-852e-28b96b22cd58"
      },
      "outputs": [
        {
          "output_type": "execute_result",
          "data": {
            "text/plain": [
              "low             21504\n",
              "medium          11830\n",
              "intermediate     3490\n",
              "high              720\n",
              "Name: loan_amnt, dtype: int64"
            ]
          },
          "metadata": {},
          "execution_count": 56
        }
      ],
      "source": [
        "# binning loan amount\n",
        "df_analysis['loan_amnt']= pd.cut(df_analysis['loan_amnt'], [0, 10000, 20000, 30000, 1000000], labels=['low', 'medium', 'intermediate', 'high'])\n",
        "df_analysis['loan_amnt'].value_counts()"
      ]
    },
    {
      "cell_type": "code",
      "execution_count": 57,
      "metadata": {
        "colab": {
          "base_uri": "https://localhost:8080/",
          "height": 280
        },
        "id": "ob83Q5lZRO_5",
        "outputId": "4393094e-31ac-4bc7-f0ba-98fc5116351b"
      },
      "outputs": [
        {
          "output_type": "display_data",
          "data": {
            "text/plain": [
              "<Figure size 432x288 with 1 Axes>"
            ],
            "image/png": "[encoded data removed]"
          },
          "metadata": {
            "needs_background": "light"
          }
        }
      ],
      "source": [
        "# Analyse/ Visualise binned loan amount : higher loan amount -> higher deafult rate\n",
        "sns.barplot(x='loan_amnt', y='loan_status', data= df_analysis)\n",
        "plt.show()"
      ]
    },
    {
      "cell_type": "code",
      "execution_count": 58,
      "metadata": {
        "id": "D4keaYArRO_6"
      },
      "outputs": [],
      "source": [
        "# Binning funded_amnt_inv as per loan amount binning logic\n",
        "df_analysis['funded_amnt_inv']= pd.cut(df_analysis['funded_amnt_inv'], [0, 10000, 20000, 30000, 1000000], labels=['low', 'medium', 'intermediate', 'high'])"
      ]
    },
    {
      "cell_type": "code",
      "execution_count": 59,
      "metadata": {
        "colab": {
          "base_uri": "https://localhost:8080/",
          "height": 280
        },
        "id": "mQv-VFalRO_7",
        "outputId": "703a46b5-bc8f-4754-ca6d-8dabae28acd4"
      },
      "outputs": [
        {
          "output_type": "display_data",
          "data": {
            "text/plain": [
              "<Figure size 432x288 with 1 Axes>"
            ],
            "image/png": "[encoded data removed]"
          },
          "metadata": {
            "needs_background": "light"
          }
        }
      ],
      "source": [
        "# Analyse/ Visualise binned funded_amnt_inv : similar behavious as loan amount\n",
        "sns.barplot(x='funded_amnt_inv', y='loan_status', data= df_analysis)\n",
        "plt.show()"
      ]
    },
    {
      "cell_type": "code",
      "source": [
        "# Analyse/ Visualise binned funded_amnt\n",
        "df_analysis['funded_amnt']= pd.cut(df_analysis['funded_amnt'], [0, 10000, 20000, 30000, 1000000], labels=['low', 'medium', 'intermediate', 'high'])\n",
        "sns.barplot(x='funded_amnt', y='loan_status', data= df_analysis)\n",
        "plt.show()"
      ],
      "metadata": {
        "colab": {
          "base_uri": "https://localhost:8080/",
          "height": 280
        },
        "id": "wFN4hDXSHS39",
        "outputId": "5eabbf85-31a0-4201-9612-20298142d0b8"
      },
      "execution_count": 60,
      "outputs": [
        {
          "output_type": "display_data",
          "data": {
            "text/plain": [
              "<Figure size 432x288 with 1 Axes>"
            ],
            "image/png": "[encoded data removed]"
          },
          "metadata": {
            "needs_background": "light"
          }
        }
      ]
    },
    {
      "cell_type": "code",
      "source": [
        "df_analysis.columns"
      ],
      "metadata": {
        "colab": {
          "base_uri": "https://localhost:8080/"
        },
        "id": "wHPujNCvuavP",
        "outputId": "a36b0d5d-7d7a-4ea4-f486-8070dad74606"
      },
      "execution_count": 61,
      "outputs": [
        {
          "output_type": "execute_result",
          "data": {
            "text/plain": [
              "Index(['id', 'member_id', 'loan_amnt', 'funded_amnt', 'funded_amnt_inv',\n",
              "       'term', 'int_rate', 'installment', 'grade', 'sub_grade', 'emp_title',\n",
              "       'emp_length', 'home_ownership', 'annual_inc', 'verification_status',\n",
              "       'issue_d', 'loan_status', 'pymnt_plan', 'purpose', 'dti',\n",
              "       'initial_list_status', 'collections_12_mths_ex_med', 'policy_code',\n",
              "       'acc_now_delinq', 'chargeoff_within_12_mths', 'delinq_amnt',\n",
              "       'pub_rec_bankruptcies', 'tax_liens', 'month', 'year'],\n",
              "      dtype='object')"
            ]
          },
          "metadata": {},
          "execution_count": 61
        }
      ]
    },
    {
      "cell_type": "code",
      "source": [
        "# Analyse/Visualise data across annual_inc\n",
        "plt.figure(figsize=(10,4))\n",
        "sns.histplot(df_analysis['annual_inc'])\n",
        "plt.show()"
      ],
      "metadata": {
        "colab": {
          "base_uri": "https://localhost:8080/",
          "height": 280
        },
        "id": "75NJpcvbuU3m",
        "outputId": "3baa9824-8b5d-439a-bfbb-ffc805866fdb"
      },
      "execution_count": 62,
      "outputs": [
        {
          "output_type": "display_data",
          "data": {
            "text/plain": [
              "<Figure size 720x288 with 1 Axes>"
            ],
            "image/png": "[encoded data removed]"
          },
          "metadata": {
            "needs_background": "light"
          }
        }
      ]
    },
    {
      "cell_type": "code",
      "source": [
        "# Bin annual income data\n",
        "df_analysis['annual_inc']= pd.cut(df_analysis['annual_inc'], [0, 100000, 500000, 2000000, 10000000000], labels=['low', 'medium', 'intermediate', 'high'])\n",
        "df_analysis['annual_inc'].value_counts()"
      ],
      "metadata": {
        "colab": {
          "base_uri": "https://localhost:8080/"
        },
        "id": "XgebGLykIj-J",
        "outputId": "0b31b535-00ea-4fc0-c55e-343a4a47ebeb"
      },
      "execution_count": 63,
      "outputs": [
        {
          "output_type": "execute_result",
          "data": {
            "text/plain": [
              "low             32111\n",
              "medium           5368\n",
              "intermediate       62\n",
              "high                3\n",
              "Name: annual_inc, dtype: int64"
            ]
          },
          "metadata": {},
          "execution_count": 63
        }
      ]
    },
    {
      "cell_type": "code",
      "source": [
        "# Visualise annual income\n",
        "sns.barplot(x='annual_inc', y='loan_status', data= df_analysis)\n",
        "plt.show()"
      ],
      "metadata": {
        "colab": {
          "base_uri": "https://localhost:8080/",
          "height": 280
        },
        "id": "9JRId9r9JnRN",
        "outputId": "588ff2dc-dbde-4813-8d8d-72f8f9ac4998"
      },
      "execution_count": 64,
      "outputs": [
        {
          "output_type": "display_data",
          "data": {
            "text/plain": [
              "<Figure size 432x288 with 1 Axes>"
            ],
            "image/png": "[encoded data removed]"
          },
          "metadata": {
            "needs_background": "light"
          }
        }
      ]
    },
    {
      "cell_type": "code",
      "source": [
        "# Analyse/Visualise data across interest rate\n",
        "sns.histplot(df_analysis['int_rate'])\n",
        "plt.show()"
      ],
      "metadata": {
        "colab": {
          "base_uri": "https://localhost:8080/",
          "height": 280
        },
        "id": "VKPdOrtRF5Qq",
        "outputId": "798068df-cd9a-487d-ceac-d2a3459d220a"
      },
      "execution_count": 65,
      "outputs": [
        {
          "output_type": "display_data",
          "data": {
            "text/plain": [
              "<Figure size 432x288 with 1 Axes>"
            ],
            "image/png": "[encoded data removed]"
          },
          "metadata": {
            "needs_background": "light"
          }
        }
      ]
    },
    {
      "cell_type": "code",
      "execution_count": 66,
      "metadata": {
        "id": "4CJi8JPqRO_7",
        "colab": {
          "base_uri": "https://localhost:8080/"
        },
        "outputId": "ebba1205-1943-4506-bf29-fb358a206ef4"
      },
      "outputs": [
        {
          "output_type": "execute_result",
          "data": {
            "text/plain": [
              "medium    17880\n",
              "low       11834\n",
              "high       7830\n",
              "Name: int_rate, dtype: int64"
            ]
          },
          "metadata": {},
          "execution_count": 66
        }
      ],
      "source": [
        "# Binning Interest rate\n",
        "df_analysis['int_rate']= pd.cut(df_analysis['int_rate'], [0, 10, 15, 100], labels=['low', 'medium', 'high'])\n",
        "df_analysis['int_rate'].value_counts()"
      ]
    },
    {
      "cell_type": "code",
      "execution_count": 67,
      "metadata": {
        "colab": {
          "base_uri": "https://localhost:8080/",
          "height": 280
        },
        "id": "sQRVy0G3RO_8",
        "outputId": "c62ecd95-dc0a-4d94-e028-eb019078fdcc"
      },
      "outputs": [
        {
          "output_type": "display_data",
          "data": {
            "text/plain": [
              "<Figure size 432x288 with 1 Axes>"
            ],
            "image/png": "[encoded data removed]"
          },
          "metadata": {
            "needs_background": "light"
          }
        }
      ],
      "source": [
        "# Analyse/ Visualise binned int_rate : similar behavious as loan amount\n",
        "sns.barplot(x='int_rate', y='loan_status', data= df_analysis)\n",
        "plt.show()"
      ]
    },
    {
      "cell_type": "code",
      "source": [
        "# Analyse/Visualise data across dti(debt to income ratio)\n",
        "plt.figure(figsize=(15, 5))\n",
        "sns.histplot(df_analysis['dti'])\n",
        "plt.show()"
      ],
      "metadata": {
        "colab": {
          "base_uri": "https://localhost:8080/",
          "height": 334
        },
        "id": "oeuwHErVGetq",
        "outputId": "16eca22e-0b82-4a29-c302-c3747c95e826"
      },
      "execution_count": 68,
      "outputs": [
        {
          "output_type": "display_data",
          "data": {
            "text/plain": [
              "<Figure size 1080x360 with 1 Axes>"
            ],
            "image/png": "[encoded data removed]"
          },
          "metadata": {
            "needs_background": "light"
          }
        }
      ]
    },
    {
      "cell_type": "code",
      "execution_count": 69,
      "metadata": {
        "id": "5W0G7vIfRO_8"
      },
      "outputs": [],
      "source": [
        "# Binning as per interest rate logic\n",
        "df_analysis['dti'] = pd.cut(df_analysis['dti'], [0, 10, 15, 100], labels=['low', 'medium', 'high'])"
      ]
    },
    {
      "cell_type": "code",
      "execution_count": 70,
      "metadata": {
        "colab": {
          "base_uri": "https://localhost:8080/",
          "height": 279
        },
        "id": "I_vzUw7gRO_9",
        "outputId": "b8545a81-d238-4e01-a9f9-fd5b08bfea04"
      },
      "outputs": [
        {
          "output_type": "display_data",
          "data": {
            "text/plain": [
              "<Figure size 432x288 with 1 Axes>"
            ],
            "image/png": "[encoded data removed]"
          },
          "metadata": {
            "needs_background": "light"
          }
        }
      ],
      "source": [
        "# Analyse/ Visualise binned dti\n",
        "sns.barplot(x='dti', y='loan_status', data= df_analysis)\n",
        "plt.show()"
      ]
    },
    {
      "cell_type": "code",
      "source": [
        "# Analyse/Visualise data across dti(debt to income ratio)\n",
        "sns.histplot(df_analysis['installment'])\n",
        "plt.show()"
      ],
      "metadata": {
        "colab": {
          "base_uri": "https://localhost:8080/",
          "height": 279
        },
        "id": "QUBDLq9zHoqL",
        "outputId": "f0990124-3ad6-4988-c5a0-499b03312d8a"
      },
      "execution_count": 71,
      "outputs": [
        {
          "output_type": "display_data",
          "data": {
            "text/plain": [
              "<Figure size 432x288 with 1 Axes>"
            ],
            "image/png": "[encoded data removed]"
          },
          "metadata": {
            "needs_background": "light"
          }
        }
      ]
    },
    {
      "cell_type": "code",
      "execution_count": 72,
      "metadata": {
        "colab": {
          "base_uri": "https://localhost:8080/",
          "height": 279
        },
        "id": "dYmOfl-oRO__",
        "outputId": "254068d8-10d2-4764-ae29-86cc54e575f8"
      },
      "outputs": [
        {
          "output_type": "display_data",
          "data": {
            "text/plain": [
              "<Figure size 432x288 with 1 Axes>"
            ],
            "image/png": "[encoded data removed]"
          },
          "metadata": {
            "needs_background": "light"
          }
        }
      ],
      "source": [
        "# Binning installment\n",
        "# Bin installment and visualise data\n",
        "df_analysis['installment'] = pd.cut(df_analysis['installment'], [0, 200, 400, 600, 1500 ], labels=['low', 'medium', 'intermediate','high'])\n",
        "\n",
        "sns.barplot(x='installment', y='loan_status', data= df_analysis)\n",
        "plt.show()"
      ]
    },
    {
      "cell_type": "code",
      "execution_count": 73,
      "metadata": {
        "colab": {
          "base_uri": "https://localhost:8080/",
          "height": 280
        },
        "id": "Sr88gNj6RPAC",
        "outputId": "fdcefccf-37bb-4a83-83f6-dbda0adc5e01"
      },
      "outputs": [
        {
          "output_type": "display_data",
          "data": {
            "text/plain": [
              "<Figure size 432x288 with 1 Axes>"
            ],
            "image/png": "[encoded data removed]"
          },
          "metadata": {
            "needs_background": "light"
          }
        }
      ],
      "source": [
        "# Checkout emp_length\n",
        "df_analysis['emp_length'] = pd.cut(df_analysis['emp_length'], [0, 1, 3, 7, 100], labels=['fresher', 'junior','intermediate', 'senior'])\n",
        "\n",
        "sns.barplot(x='emp_length', y='loan_status', data= df_analysis)\n",
        "plt.show()"
      ]
    },
    {
      "cell_type": "code",
      "source": [
        "df_analysis.columns"
      ],
      "metadata": {
        "colab": {
          "base_uri": "https://localhost:8080/"
        },
        "id": "2aRpCise2MiT",
        "outputId": "cff9a2c4-a655-40ca-e1b4-48bb2bd82596"
      },
      "execution_count": 74,
      "outputs": [
        {
          "output_type": "execute_result",
          "data": {
            "text/plain": [
              "Index(['id', 'member_id', 'loan_amnt', 'funded_amnt', 'funded_amnt_inv',\n",
              "       'term', 'int_rate', 'installment', 'grade', 'sub_grade', 'emp_title',\n",
              "       'emp_length', 'home_ownership', 'annual_inc', 'verification_status',\n",
              "       'issue_d', 'loan_status', 'pymnt_plan', 'purpose', 'dti',\n",
              "       'initial_list_status', 'collections_12_mths_ex_med', 'policy_code',\n",
              "       'acc_now_delinq', 'chargeoff_within_12_mths', 'delinq_amnt',\n",
              "       'pub_rec_bankruptcies', 'tax_liens', 'month', 'year'],\n",
              "      dtype='object')"
            ]
          },
          "metadata": {},
          "execution_count": 74
        }
      ]
    },
    {
      "cell_type": "markdown",
      "source": [
        "- Understandabily, as the grade,and sub-grade of loan goes from A to G, the default-rate increases. This is due to the fact that, grade is decided by Lending Club based on the risk of the loan. \n",
        "- Surprisingly, verified loans default more than not verified.\n",
        "- Small business loans defualt the most, then renewable energy and education.\n",
        "- *'loan_amnt', 'funded_amnt', 'funded_amnt_inv', 'term', 'int_rate', 'installment', 'emp_length', 'dti'* have positive effect on default-rate. Default-rate increases as per these variables increase.\n"
      ],
      "metadata": {
        "id": "5peictAuzrDN"
      }
    },
    {
      "cell_type": "markdown",
      "metadata": {
        "id": "JRU1QiGXRPAE"
      },
      "source": [
        "# Segmented Univariate Analysis\n"
      ]
    },
    {
      "cell_type": "markdown",
      "metadata": {
        "id": "1ejrsA6iRPAF"
      },
      "source": [
        "Analysing purpose of the loan, since it effects- applicant-type, interest-rate, income, and thus the default-rate. "
      ]
    },
    {
      "cell_type": "code",
      "source": [
        "df_analysis['purpose'].value_counts()"
      ],
      "metadata": {
        "colab": {
          "base_uri": "https://localhost:8080/"
        },
        "id": "nOgXQCP_5WlL",
        "outputId": "5b436fc4-bb94-46e8-a990-06541711f2a2"
      },
      "execution_count": 75,
      "outputs": [
        {
          "output_type": "execute_result",
          "data": {
            "text/plain": [
              "debt_consolidation    17675\n",
              "credit_card            4899\n",
              "other                  3713\n",
              "home_improvement       2785\n",
              "major_purchase         2080\n",
              "small_business         1710\n",
              "car                    1448\n",
              "wedding                 913\n",
              "medical                 656\n",
              "moving                  552\n",
              "house                   354\n",
              "vacation                348\n",
              "educational             317\n",
              "renewable_energy         94\n",
              "Name: purpose, dtype: int64"
            ]
          },
          "metadata": {},
          "execution_count": 75
        }
      ]
    },
    {
      "cell_type": "code",
      "execution_count": 76,
      "metadata": {
        "id": "TCE5-YBfRPAH",
        "outputId": "04fe1879-2ac9-4c3a-8b26-f55a914c5de9",
        "colab": {
          "base_uri": "https://localhost:8080/"
        }
      },
      "outputs": [
        {
          "output_type": "execute_result",
          "data": {
            "text/plain": [
              "debt_consolidation    17675\n",
              "credit_card            4899\n",
              "home_improvement       2785\n",
              "major_purchase         2080\n",
              "Name: purpose, dtype: int64"
            ]
          },
          "metadata": {},
          "execution_count": 76
        }
      ],
      "source": [
        "# Analyse the top 4 types of loans as per purpose -> consolidation, credit card, home improvement and major purchase. Filtering the data\n",
        "df_analysis = df_analysis[df_analysis['purpose'].isin([ \"debt_consolidation\", \"credit_card\", \"home_improvement\", \"major_purchase\"])]\n",
        "df_analysis['purpose'].value_counts()"
      ]
    },
    {
      "cell_type": "code",
      "execution_count": 77,
      "metadata": {
        "id": "lSHZ_jr7RPAH",
        "outputId": "bbceeb0c-3c0f-4f25-925a-5863ee17cd7b",
        "colab": {
          "base_uri": "https://localhost:8080/",
          "height": 329
        }
      },
      "outputs": [
        {
          "output_type": "display_data",
          "data": {
            "text/plain": [
              "<Figure size 432x288 with 1 Axes>"
            ],
            "image/png": "[encoded data removed]"
          },
          "metadata": {
            "needs_background": "light"
          }
        }
      ],
      "source": [
        "# Visualise number of loans as per purpose \n",
        "sns.countplot(x = df_analysis['purpose'])\n",
        "plt.xticks(rotation=30)\n",
        "plt.show()"
      ]
    },
    {
      "cell_type": "code",
      "execution_count": 78,
      "metadata": {
        "id": "k6qbBnc-RPAI",
        "outputId": "c206ea54-5d29-4b53-e8a6-4d0879f94181",
        "colab": {
          "base_uri": "https://localhost:8080/",
          "height": 279
        }
      },
      "outputs": [
        {
          "output_type": "display_data",
          "data": {
            "text/plain": [
              "<Figure size 432x288 with 1 Axes>"
            ],
            "image/png": "[encoded data removed]"
          },
          "metadata": {
            "needs_background": "light"
          }
        }
      ],
      "source": [
        "# Analyse categorical variable wrt default and purpose of loan\n",
        "sns.barplot(x='term', y=\"loan_status\", hue='purpose', data=df_analysis)\n",
        "plt.show()"
      ]
    },
    {
      "cell_type": "code",
      "execution_count": 79,
      "metadata": {
        "id": "2S5nyBCMRPAJ",
        "outputId": "66f5891d-16fc-4e22-a622-c1830c53e4dc",
        "colab": {
          "base_uri": "https://localhost:8080/",
          "height": 279
        }
      },
      "outputs": [
        {
          "output_type": "display_data",
          "data": {
            "text/plain": [
              "<Figure size 432x288 with 1 Axes>"
            ],
            "image/png": "[encoded data removed]"
          },
          "metadata": {
            "needs_background": "light"
          }
        }
      ],
      "source": [
        "# Analyse categorical variable wrt default and purpose of loan\n",
        "sns.barplot(x='grade', y=\"loan_status\", hue='purpose', data = df_analysis)\n",
        "plt.show()"
      ]
    },
    {
      "cell_type": "code",
      "execution_count": 80,
      "metadata": {
        "id": "_OxPQHTHRPAK",
        "outputId": "4f23aa10-2436-4794-fc69-edeb49f889c5",
        "colab": {
          "base_uri": "https://localhost:8080/",
          "height": 280
        }
      },
      "outputs": [
        {
          "output_type": "display_data",
          "data": {
            "text/plain": [
              "<Figure size 432x288 with 1 Axes>"
            ],
            "image/png": "[encoded data removed]"
          },
          "metadata": {
            "needs_background": "light"
          }
        }
      ],
      "source": [
        "# Analyse categorical variable:home ownership wrt default and purpose of loan\n",
        "sns.barplot(x='home_ownership', y=\"loan_status\", hue='purpose', data=df_analysis)\n",
        "plt.show()"
      ]
    },
    {
      "cell_type": "code",
      "execution_count": 81,
      "metadata": {
        "id": "UnPrAU8yRPAL",
        "outputId": "3db86379-110f-4859-8d65-f149d30dc0cd",
        "colab": {
          "base_uri": "https://localhost:8080/",
          "height": 279
        }
      },
      "outputs": [
        {
          "output_type": "display_data",
          "data": {
            "text/plain": [
              "<Figure size 432x288 with 1 Axes>"
            ],
            "image/png": "[encoded data removed]"
          },
          "metadata": {
            "needs_background": "light"
          }
        }
      ],
      "source": [
        "# Analyse categorical variable:year wrt default and purpose of loan\n",
        "sns.barplot(x='year', y=\"loan_status\", hue='purpose', data=df_analysis)\n",
        "plt.show()"
      ]
    },
    {
      "cell_type": "code",
      "execution_count": 82,
      "metadata": {
        "id": "BXyHZ8voRPAM",
        "outputId": "18b0e2e6-2474-4d0f-d2eb-d3649ef9f68d",
        "colab": {
          "base_uri": "https://localhost:8080/",
          "height": 280
        }
      },
      "outputs": [
        {
          "output_type": "display_data",
          "data": {
            "text/plain": [
              "<Figure size 432x288 with 1 Axes>"
            ],
            "image/png": "[encoded data removed]"
          },
          "metadata": {
            "needs_background": "light"
          }
        }
      ],
      "source": [
        "# Analyse categorical variable:emp_length wrt default and purpose of loan\n",
        "sns.barplot(x='emp_length', y=\"loan_status\", hue='purpose', data=df_analysis)\n",
        "plt.show()"
      ]
    },
    {
      "cell_type": "code",
      "execution_count": 83,
      "metadata": {
        "id": "bMvgenBnRPAM",
        "outputId": "edd480d2-f71b-4876-b458-dbbed44e7ba9",
        "colab": {
          "base_uri": "https://localhost:8080/",
          "height": 280
        }
      },
      "outputs": [
        {
          "output_type": "display_data",
          "data": {
            "text/plain": [
              "<Figure size 432x288 with 1 Axes>"
            ],
            "image/png": "[encoded data removed]"
          },
          "metadata": {
            "needs_background": "light"
          }
        }
      ],
      "source": [
        "# Analyse categorical variable:loan_amnt wrt default and purpose of loan\n",
        "sns.barplot(x='loan_amnt', y=\"loan_status\", hue='purpose', data=df_analysis)\n",
        "plt.show()"
      ]
    },
    {
      "cell_type": "code",
      "execution_count": 84,
      "metadata": {
        "id": "lfHSXAAjRPAN",
        "outputId": "0a40c2ba-87e2-4d2d-c454-422e6d2a6f4b",
        "colab": {
          "base_uri": "https://localhost:8080/",
          "height": 280
        }
      },
      "outputs": [
        {
          "output_type": "display_data",
          "data": {
            "text/plain": [
              "<Figure size 432x288 with 1 Axes>"
            ],
            "image/png": "[encoded data removed]"
          },
          "metadata": {
            "needs_background": "light"
          }
        }
      ],
      "source": [
        "# Analyse categorical variable:int_rate wrt default and purpose of loan\n",
        "sns.barplot(x='int_rate', y=\"loan_status\", hue='purpose', data=df_analysis)\n",
        "plt.show()"
      ]
    },
    {
      "cell_type": "code",
      "execution_count": 85,
      "metadata": {
        "id": "Hh2k6_MrRPAO",
        "outputId": "c80c9612-2d1b-443f-e33b-5006432e02b1",
        "colab": {
          "base_uri": "https://localhost:8080/",
          "height": 279
        }
      },
      "outputs": [
        {
          "output_type": "display_data",
          "data": {
            "text/plain": [
              "<Figure size 432x288 with 1 Axes>"
            ],
            "image/png": "[encoded data removed]"
          },
          "metadata": {
            "needs_background": "light"
          }
        }
      ],
      "source": [
        "# Analyse categorical variable:installment wrt default and purpose of loan\n",
        "sns.barplot(x='installment', y=\"loan_status\", hue='purpose', data=df_analysis)\n",
        "plt.show()"
      ]
    },
    {
      "cell_type": "code",
      "execution_count": 86,
      "metadata": {
        "id": "CELSfdYIRPAO",
        "outputId": "ec18a627-c356-406d-e5ca-79f9f20cfe1a",
        "colab": {
          "base_uri": "https://localhost:8080/",
          "height": 279
        }
      },
      "outputs": [
        {
          "output_type": "display_data",
          "data": {
            "text/plain": [
              "<Figure size 432x288 with 1 Axes>"
            ],
            "image/png": "[encoded data removed]"
          },
          "metadata": {
            "needs_background": "light"
          }
        }
      ],
      "source": [
        "# Analyse categorical variable:dti wrt default and purpose of loan\n",
        "sns.barplot(x='dti', y=\"loan_status\", hue='purpose', data=df_analysis)\n",
        "plt.show()"
      ]
    },
    {
      "cell_type": "markdown",
      "metadata": {
        "id": "wZfcB41IRPAQ"
      },
      "source": [
        "- Generally, debt_consolidation loans does have very high default rates across all categories\n",
        "- The credit card loans are less defaulter amonst almost all the four purpose of loan, when comparing between different categories\n",
        "\n"
      ]
    },
    {
      "cell_type": "markdown",
      "source": [
        "Checking the default rate difference across annual income and loan amount"
      ],
      "metadata": {
        "id": "ph3ZAzibYhB4"
      }
    },
    {
      "cell_type": "code",
      "source": [
        "# Check average Default Rate\n",
        "round(np.mean(df_analysis['loan_status']), 2)"
      ],
      "metadata": {
        "colab": {
          "base_uri": "https://localhost:8080/"
        },
        "id": "0U4mW071LIq2",
        "outputId": "841b0e57-b4e9-4ef5-c2c4-3b1f90338178"
      },
      "execution_count": 87,
      "outputs": [
        {
          "output_type": "execute_result",
          "data": {
            "text/plain": [
              "0.14"
            ]
          },
          "metadata": {},
          "execution_count": 87
        }
      ]
    },
    {
      "cell_type": "markdown",
      "source": [
        "Thus, the average Default Rate is approximately 14%."
      ],
      "metadata": {
        "id": "_Aq0mDBbLP0L"
      }
    },
    {
      "cell_type": "code",
      "execution_count": 88,
      "metadata": {
        "id": "pZq0ZplNRPAQ",
        "outputId": "de4163b7-1d34-4419-fd4e-60f8b59ea25e",
        "colab": {
          "base_uri": "https://localhost:8080/"
        }
      },
      "outputs": [
        {
          "output_type": "execute_result",
          "data": {
            "text/plain": [
              "annual_inc\n",
              "intermediate    0.17\n",
              "low             0.14\n",
              "medium          0.10\n",
              "high            0.00\n",
              "Name: loan_status, dtype: float64"
            ]
          },
          "metadata": {},
          "execution_count": 88
        }
      ],
      "source": [
        "# variation of default rate across annual_inc\n",
        "round(df_analysis.groupby('annual_inc').loan_status.mean().sort_values(ascending=False), 2)"
      ]
    },
    {
      "cell_type": "code",
      "source": [
        "round(df_analysis.groupby('loan_amnt').loan_status.mean().sort_values(ascending=False), 2)"
      ],
      "metadata": {
        "colab": {
          "base_uri": "https://localhost:8080/"
        },
        "id": "Sqm8m8-qceFq",
        "outputId": "41c9c55d-2332-488a-f195-aa184a761aaf"
      },
      "execution_count": 89,
      "outputs": [
        {
          "output_type": "execute_result",
          "data": {
            "text/plain": [
              "loan_amnt\n",
              "high            0.22\n",
              "intermediate    0.18\n",
              "medium          0.14\n",
              "low             0.12\n",
              "Name: loan_status, dtype: float64"
            ]
          },
          "metadata": {},
          "execution_count": 89
        }
      ]
    },
    {
      "cell_type": "markdown",
      "source": [
        "# CONCLUSION\n",
        "\n",
        "- There is a lot of missing data within the dataset, approximately 50% of the columns have more than 90% missing data.\n",
        "\n",
        "- Maximum number of loans are taken for the purpose of debt_consolidation. Also, this category contain the most defaulters.\n",
        "\n",
        "- There are more percentage of default-rate in long-term rate, that is, 36 months.\n",
        "\n",
        "- Small business loans defualt the most, then renewable energy and education.\n",
        "\n",
        "- It is important to analyse grade and sub-grade, since the grades have positive effect on defaulters."
      ],
      "metadata": {
        "id": "5RDBqwSvXS-j"
      }
    },
    {
      "cell_type": "code",
      "source": [],
      "metadata": {
        "id": "9AYXZyZaXQ7V"
      },
      "execution_count": 89,
      "outputs": []
    },
    {
      "cell_type": "code",
      "source": [],
      "metadata": {
        "id": "XtE4LDK8XQ3G"
      },
      "execution_count": 89,
      "outputs": []
    },
    {
      "cell_type": "code",
      "source": [],
      "metadata": {
        "id": "BZfrg1t1XQzo"
      },
      "execution_count": 89,
      "outputs": []
    }
  ],
  "metadata": {
    "kernelspec": {
      "display_name": "Python 3",
      "language": "python",
      "name": "python3"
    },
    "language_info": {
      "codemirror_mode": {
        "name": "ipython",
        "version": 3
      },
      "file_extension": ".py",
      "mimetype": "text/x-python",
      "name": "python",
      "nbconvert_exporter": "python",
      "pygments_lexer": "ipython3",
      "version": "3.5.2"
    },
    "colab": {
      "provenance": [],
      "collapsed_sections": []
    }
  },
  "nbformat": 4,
  "nbformat_minor": 0
}